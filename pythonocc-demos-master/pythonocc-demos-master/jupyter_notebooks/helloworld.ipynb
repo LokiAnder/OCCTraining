{
 "cells": [
  {
   "cell_type": "code",
   "execution_count": 1,
   "metadata": {},
   "outputs": [],
   "source": [
    "from OCC.Display.WebGl.jupyter_renderer import JupyterRenderer\n",
    "from OCC.Core.BRepPrimAPI import (\n",
    "    BRepPrimAPI_MakeBox,\n",
    "    BRepPrimAPI_MakeSphere,\n",
    "    BRepPrimAPI_MakeCylinder,\n",
    ")\n",
    "from OCC.Core.gp import gp_Pnt"
   ]
  },
  {
   "cell_type": "code",
   "execution_count": 2,
   "metadata": {},
   "outputs": [],
   "source": [
    "my_renderer = JupyterRenderer()"
   ]
  },
  {
   "cell_type": "code",
   "execution_count": 3,
   "metadata": {},
   "outputs": [],
   "source": [
    "box_shape = BRepPrimAPI_MakeBox(10, 20, 30).Shape()\n",
    "cylinder_shape = BRepPrimAPI_MakeCylinder(10, 30).Shape()"
   ]
  },
  {
   "cell_type": "code",
   "execution_count": 4,
   "metadata": {},
   "outputs": [],
   "source": [
    "vertices = [gp_Pnt(5, 10, 40), gp_Pnt(10, -4, -10)]\n",
    "my_renderer.DisplayShape(vertices)"
   ]
  },
  {
   "cell_type": "code",
   "execution_count": 5,
   "metadata": {},
   "outputs": [
    {
     "data": {
      "application/vnd.jupyter.widget-view+json": {
       "model_id": "a88491219a8c4adba1a2b7c3f0cdc8f1",
       "version_major": 2,
       "version_minor": 0
      },
      "text/plain": [
       "HBox(children=(VBox(children=(HBox(children=(Checkbox(value=True, description='Axes', layout=Layout(height='au…"
      ]
     },
     "metadata": {},
     "output_type": "display_data"
    }
   ],
   "source": [
    "my_renderer.DisplayShape(\n",
    "    box_shape,\n",
    "    render_edges=True,\n",
    "    topo_level=\"Face\",\n",
    "    shape_color=\"#abdda4\",\n",
    "    update=True,\n",
    ")"
   ]
  },
  {
   "cell_type": "code",
   "execution_count": 10,
   "metadata": {},
   "outputs": [
    {
     "name": "stdout",
     "output_type": "stream",
     "text": [
      "['AddCurveToScene', 'AddShapeToScene', 'AddVerticesToScene', 'Display', 'DisplayShape', 'DisplayShapeAsSVG', 'EraseAll', 'ExportToHTML', 'GetSelectedShape', '__class__', '__delattr__', '__dict__', '__dir__', '__doc__', '__eq__', '__format__', '__ge__', '__getattribute__', '__gt__', '__hash__', '__init__', '__init_subclass__', '__le__', '__lt__', '__module__', '__ne__', '__new__', '__reduce__', '__reduce_ex__', '__repr__', '__setattr__', '__sizeof__', '__str__', '__subclasshook__', '__weakref__', '_background', '_background_opacity', '_bb', '_camera', '_camera_distance_factor', '_camera_initial_zoom', '_camera_position', '_camera_target', '_compute_normals_mode', '_controller', '_controls', '_current_mesh_selection', '_current_shape_selection', '_default_edge_color', '_default_shape_color', '_default_vertex_color', '_displayed_non_pickable_objects', '_displayed_pickable_objects', '_material', '_pick_color', '_picker', '_remove_shp_button', '_renderer', '_reset', '_savestate', '_scale', '_select_callbacks', '_selection_color', '_shapes', '_shp_properties_button', '_size', '_toggle_shp_visibility_button', '_update', 'axes', 'click', 'create_button', 'create_checkbox', 'horizontal_grid', 'html', 'layout', 'on_compute_change', 'register_select_callback', 'remove_shape', 'toggle_axes_visibility', 'toggle_grid_visibility', 'toggle_shape_visibility', 'unregister_callback', 'vertical_grid']\n"
     ]
    }
   ],
   "source": [
    "print(dir(my_renderer))"
   ]
  },
  {
   "cell_type": "code",
   "execution_count": 12,
   "metadata": {},
   "outputs": [
    {
     "ename": "AttributeError",
     "evalue": "'JupyterRenderer' object has no attribute 'clicked_obj'",
     "output_type": "error",
     "traceback": [
      "\u001b[1;31m---------------------------------------------------------------------------\u001b[0m",
      "\u001b[1;31mAttributeError\u001b[0m                            Traceback (most recent call last)",
      "Cell \u001b[1;32mIn[12], line 1\u001b[0m\n\u001b[1;32m----> 1\u001b[0m \u001b[43mmy_renderer\u001b[49m\u001b[38;5;241;43m.\u001b[39;49m\u001b[43mremove_shape\u001b[49m\u001b[43m(\u001b[49m\u001b[43mcylinder_shape\u001b[49m\u001b[43m)\u001b[49m\n",
      "File \u001b[1;32m~\\.conda\\envs\\pyoccenv\\lib\\site-packages\\OCC\\Display\\WebGl\\jupyter_renderer.py:526\u001b[0m, in \u001b[0;36mJupyterRenderer.remove_shape\u001b[1;34m(self, *kargs)\u001b[0m\n\u001b[0;32m    525\u001b[0m \u001b[38;5;28;01mdef\u001b[39;00m\u001b[38;5;250m \u001b[39m\u001b[38;5;21mremove_shape\u001b[39m(\u001b[38;5;28mself\u001b[39m, \u001b[38;5;241m*\u001b[39mkargs):\n\u001b[1;32m--> 526\u001b[0m     \u001b[38;5;28mself\u001b[39m\u001b[38;5;241m.\u001b[39mclicked_obj\u001b[38;5;241m.\u001b[39mvisible \u001b[38;5;241m=\u001b[39m \u001b[38;5;129;01mnot\u001b[39;00m \u001b[38;5;28;43mself\u001b[39;49m\u001b[38;5;241;43m.\u001b[39;49m\u001b[43mclicked_obj\u001b[49m\u001b[38;5;241m.\u001b[39mvisible\n\u001b[0;32m    527\u001b[0m     \u001b[38;5;66;03m# remove shape from the mapping dict\u001b[39;00m\n\u001b[0;32m    528\u001b[0m     cur_id \u001b[38;5;241m=\u001b[39m \u001b[38;5;28mself\u001b[39m\u001b[38;5;241m.\u001b[39mclicked_obj\u001b[38;5;241m.\u001b[39mname\n",
      "\u001b[1;31mAttributeError\u001b[0m: 'JupyterRenderer' object has no attribute 'clicked_obj'"
     ]
    }
   ],
   "source": [
    "my_renderer.remove_shape(cylinder_shape)"
   ]
  }
 ],
 "metadata": {
  "kernelspec": {
   "display_name": "Python 3 (ipykernel)",
   "language": "python",
   "name": "python3"
  },
  "language_info": {
   "codemirror_mode": {
    "name": "ipython",
    "version": 3
   },
   "file_extension": ".py",
   "mimetype": "text/x-python",
   "name": "python",
   "nbconvert_exporter": "python",
   "pygments_lexer": "ipython3",
   "version": "3.10.18"
  }
 },
 "nbformat": 4,
 "nbformat_minor": 4
}
