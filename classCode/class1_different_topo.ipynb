{
 "cells": [
  {
   "cell_type": "code",
   "execution_count": null,
   "id": "66d27395",
   "metadata": {},
   "outputs": [],
   "source": [
    "from OCC.Core.GC import GC_MakeArcOfCircle, GC_MakeSegment\n",
    "from OCC.Core.gp import gp_Pnt, gp_Vec\n",
    "\n"
   ]
  },
  {
   "cell_type": "code",
   "execution_count": null,
   "id": "01ccc1e0",
   "metadata": {},
   "outputs": [],
   "source": [
    "# 三个点\n",
    "p1 = gp_Pnt(0, 0, 0)\n",
    "p2 = gp_Pnt(10, 5, 0)\n",
    "p3 = gp_Pnt(20, 0, 0)\n",
    "\n",
    "# 方案1：直线边\n",
    "straight_edge = BRepBuilderAPI_MakeEdge(\n",
    "    GC_MakeSegment(p1, p2).Value()\n",
    ").Edge()\n",
    "\n",
    "# 方案2：圆弧边  \n",
    "arc_edge = BRepBuilderAPI_MakeEdge(\n",
    "    GC_MakeArcOfCircle(p1, p2, p3).Value()\n",
    ").Edge()\n",
    "\n",
    "print(\"🔄 相同的拓扑关系（连接p1和p2），不同的几何形状（直线 vs 圆弧）\")\n",
    "\n",
    "# 可视化对比\n",
    "renderer = JupyterRenderer()\n",
    "renderer.DisplayShape(straight_edge, color=\"red\", line_width=3)\n",
    "renderer.DisplayShape(arc_edge, color=\"blue\", line_width=3)\n",
    "renderer.Display()"
   ]
  }
 ],
 "metadata": {
  "language_info": {
   "name": "python"
  }
 },
 "nbformat": 4,
 "nbformat_minor": 5
}
