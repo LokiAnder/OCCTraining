{
 "cells": [
  {
   "cell_type": "code",
   "execution_count": 3,
   "id": "66d27395",
   "metadata": {},
   "outputs": [],
   "source": [
    "from OCC.Core.GC import GC_MakeArcOfCircle, GC_MakeSegment\n",
    "from OCC.Core.gp import gp_Pnt, gp_Vec\n",
    "\n"
   ]
  },
  {
   "cell_type": "code",
   "execution_count": 4,
   "id": "01ccc1e0",
   "metadata": {},
   "outputs": [
    {
     "ename": "NameError",
     "evalue": "name 'BRepBuilderAPI_MakeEdge' is not defined",
     "output_type": "error",
     "traceback": [
      "\u001b[1;31m---------------------------------------------------------------------------\u001b[0m",
      "\u001b[1;31mNameError\u001b[0m                                 Traceback (most recent call last)",
      "Cell \u001b[1;32mIn[4], line 7\u001b[0m\n\u001b[0;32m      4\u001b[0m p3 \u001b[38;5;241m=\u001b[39m gp_Pnt(\u001b[38;5;241m20\u001b[39m, \u001b[38;5;241m0\u001b[39m, \u001b[38;5;241m0\u001b[39m)\n\u001b[0;32m      6\u001b[0m \u001b[38;5;66;03m# 方案1：直线边\u001b[39;00m\n\u001b[1;32m----> 7\u001b[0m straight_edge \u001b[38;5;241m=\u001b[39m \u001b[43mBRepBuilderAPI_MakeEdge\u001b[49m(\n\u001b[0;32m      8\u001b[0m     GC_MakeSegment(p1, p2)\u001b[38;5;241m.\u001b[39mValue()\n\u001b[0;32m      9\u001b[0m )\u001b[38;5;241m.\u001b[39mEdge()\n\u001b[0;32m     11\u001b[0m \u001b[38;5;66;03m# 方案2：圆弧边  \u001b[39;00m\n\u001b[0;32m     12\u001b[0m arc_edge \u001b[38;5;241m=\u001b[39m BRepBuilderAPI_MakeEdge(\n\u001b[0;32m     13\u001b[0m     GC_MakeArcOfCircle(p1, p2, p3)\u001b[38;5;241m.\u001b[39mValue()\n\u001b[0;32m     14\u001b[0m )\u001b[38;5;241m.\u001b[39mEdge()\n",
      "\u001b[1;31mNameError\u001b[0m: name 'BRepBuilderAPI_MakeEdge' is not defined"
     ]
    }
   ],
   "source": [
    "# 三个点\n",
    "p1 = gp_Pnt(0, 0, 0)\n",
    "p2 = gp_Pnt(10, 5, 0)\n",
    "p3 = gp_Pnt(20, 0, 0)\n",
    "\n",
    "# 方案1：直线边\n",
    "straight_edge = BRepBuilderAPI_MakeEdge(\n",
    "    GC_MakeSegment(p1, p2).Value()\n",
    ").Edge()\n",
    "\n",
    "# 方案2：圆弧边  \n",
    "arc_edge = BRepBuilderAPI_MakeEdge(\n",
    "    GC_MakeArcOfCircle(p1, p2, p3).Value()\n",
    ").Edge()\n",
    "\n",
    "print(\"🔄 相同的拓扑关系（连接p1和p2），不同的几何形状（直线 vs 圆弧）\")\n",
    "\n",
    "# 可视化对比\n",
    "renderer = JupyterRenderer()\n",
    "renderer.DisplayShape(straight_edge, color=\"red\", line_width=3)\n",
    "renderer.DisplayShape(arc_edge, color=\"blue\", line_width=3)\n",
    "renderer.Display()"
   ]
  }
 ],
 "metadata": {
  "kernelspec": {
   "display_name": "Python 3 (ipykernel)",
   "language": "python",
   "name": "python3"
  },
  "language_info": {
   "codemirror_mode": {
    "name": "ipython",
    "version": 3
   },
   "file_extension": ".py",
   "mimetype": "text/x-python",
   "name": "python",
   "nbconvert_exporter": "python",
   "pygments_lexer": "ipython3",
   "version": "3.10.18"
  }
 },
 "nbformat": 4,
 "nbformat_minor": 5
}
