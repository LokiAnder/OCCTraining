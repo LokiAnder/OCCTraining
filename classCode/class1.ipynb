{
 "cells": [
  {
   "cell_type": "code",
   "execution_count": 1,
   "id": "fea4ecab",
   "metadata": {},
   "outputs": [],
   "source": [
    "from OCC.Core.gp import gp_Pnt\n",
    "from OCC.Core.BRepBuilderAPI import (\n",
    "    BRepBuilderAPI_MakeVertex, \n",
    "    BRepBuilderAPI_MakeEdge, \n",
    "    BRepBuilderAPI_MakeWire, \n",
    "    BRepBuilderAPI_MakeFace\n",
    ")\n",
    "from OCC.Display.WebGl.jupyter_renderer import JupyterRenderer"
   ]
  },
  {
   "cell_type": "code",
   "execution_count": 2,
   "id": "8bf89168",
   "metadata": {},
   "outputs": [],
   "source": [
    "# 1. 创建三个点\n",
    "p1 = gp_Pnt(0, 0, 0)\n",
    "p2 = gp_Pnt(10, 0, 0)\n",
    "p3 = gp_Pnt(5, 10, 0)\n",
    "points = [p1, p2, p3]\n",
    "\n"
   ]
  },
  {
   "cell_type": "code",
   "execution_count": 3,
   "id": "2fa74f7e",
   "metadata": {},
   "outputs": [],
   "source": [
    "# 从点创建顶点\n",
    "vertex1 = BRepBuilderAPI_MakeVertex(p1).Vertex()\n",
    "vertex2 = BRepBuilderAPI_MakeVertex(p2).Vertex()\n",
    "vertex3 = BRepBuilderAPI_MakeVertex(p3).Vertex()\n",
    "\n"
   ]
  },
  {
   "cell_type": "code",
   "execution_count": 4,
   "id": "eb6ad5fc",
   "metadata": {},
   "outputs": [],
   "source": [
    "# 2. 创建三条边 (Edge)\n",
    "edge1 = BRepBuilderAPI_MakeEdge(vertex1, vertex2).Edge()\n",
    "edge2 = BRepBuilderAPI_MakeEdge(vertex2, vertex3).Edge()\n",
    "edge3 = BRepBuilderAPI_MakeEdge(vertex3, vertex1).Edge()\n",
    "\n",
    "\n"
   ]
  },
  {
   "cell_type": "code",
   "execution_count": 5,
   "id": "5cafc31c",
   "metadata": {},
   "outputs": [],
   "source": [
    "# 3. 创建线框 (Wire)\n",
    "wire_maker = BRepBuilderAPI_MakeWire()\n",
    "wire_maker.Add(edge1)\n",
    "wire_maker.Add(edge2)\n",
    "wire_maker.Add(edge3)\n",
    "triangle_wire = wire_maker.Wire()\n",
    "\n"
   ]
  },
  {
   "cell_type": "code",
   "execution_count": 6,
   "id": "34102d9e",
   "metadata": {},
   "outputs": [],
   "source": [
    "# 4. 创建面 (Face)\n",
    "triangle_face = BRepBuilderAPI_MakeFace(triangle_wire).Face()\n",
    "\n"
   ]
  },
  {
   "cell_type": "code",
   "execution_count": 7,
   "id": "9f361381",
   "metadata": {},
   "outputs": [
    {
     "data": {
      "application/vnd.jupyter.widget-view+json": {
       "model_id": "a0e4df5988ed41f9823d3181baeafba7",
       "version_major": 2,
       "version_minor": 0
      },
      "text/plain": [
       "HBox(children=(VBox(children=(HBox(children=(Checkbox(value=True, description='Axes', layout=Layout(height='au…"
      ]
     },
     "metadata": {},
     "output_type": "display_data"
    }
   ],
   "source": [
    "# 5. 可视化\n",
    "renderer = JupyterRenderer()\n",
    "renderer.DisplayShape(triangle_face, render_edges=True, shape_color=\"#009999\")\n",
    "renderer.Display()"
   ]
  },
  {
   "cell_type": "code",
   "execution_count": 16,
   "id": "fd337142-fd2b-4be0-85cf-a460ea34db41",
   "metadata": {},
   "outputs": [
    {
     "name": "stdout",
     "output_type": "stream",
     "text": [
      "📊 拓扑分析结果:\n",
      "   顶点 (Vertex): 48 个\n",
      "   边   (Edge):   24 个\n",
      "   面   (Face):   6 个\n"
     ]
    },
    {
     "data": {
      "application/vnd.jupyter.widget-view+json": {
       "model_id": "049deeffb87e42b0bb12dd2d31861128",
       "version_major": 2,
       "version_minor": 0
      },
      "text/plain": [
       "HBox(children=(VBox(children=(HBox(children=(Checkbox(value=True, description='Axes', layout=Layout(height='au…"
      ]
     },
     "metadata": {},
     "output_type": "display_data"
    }
   ],
   "source": [
    "from OCC.Core.BRepPrimAPI import BRepPrimAPI_MakeBox\n",
    "from OCC.Core.TopExp import TopExp_Explorer\n",
    "from OCC.Core.TopAbs import TopAbs_VERTEX, TopAbs_EDGE, TopAbs_FACE\n",
    "\n",
    "# 创建一个立方体\n",
    "box = BRepPrimAPI_MakeBox(10, 20, 30).Shape()\n",
    "\n",
    "# 遍历并统计各层级元素\n",
    "def analyze_shape(shape):\n",
    "    \"\"\"分析形状的拓扑结构\"\"\"\n",
    "    \n",
    "    # 统计顶点\n",
    "    vertex_explorer = TopExp_Explorer(shape, TopAbs_VERTEX)\n",
    "    vertex_count = 0\n",
    "    while vertex_explorer.More():\n",
    "        vertex_count += 1\n",
    "        vertex_explorer.Next()\n",
    "    \n",
    "    # 统计边\n",
    "    edge_explorer = TopExp_Explorer(shape, TopAbs_EDGE)\n",
    "    edge_count = 0\n",
    "    while edge_explorer.More():\n",
    "        edge_count += 1\n",
    "        edge_explorer.Next()\n",
    "    \n",
    "    # 统计面\n",
    "    face_explorer = TopExp_Explorer(shape, TopAbs_FACE)\n",
    "    face_count = 0\n",
    "    while face_explorer.More():\n",
    "        face_count += 1\n",
    "        face_explorer.Next()\n",
    "    \n",
    "    print(f\"📊 拓扑分析结果:\")\n",
    "    print(f\"   顶点 (Vertex): {vertex_count} 个\")\n",
    "    print(f\"   边   (Edge):   {edge_count} 个\") \n",
    "    print(f\"   面   (Face):   {face_count} 个\")\n",
    "    \n",
    "    return vertex_count, edge_count, face_count\n",
    "\n",
    "# 分析立方体\n",
    "analyze_shape(box)\n",
    "\n",
    "# 可视化\n",
    "renderer = JupyterRenderer()\n",
    "renderer.DisplayShape(box, render_edges=True)\n",
    "renderer.Display()"
   ]
  }
 ],
 "metadata": {
  "kernelspec": {
   "display_name": "Python 3 (ipykernel)",
   "language": "python",
   "name": "python3"
  },
  "language_info": {
   "codemirror_mode": {
    "name": "ipython",
    "version": 3
   },
   "file_extension": ".py",
   "mimetype": "text/x-python",
   "name": "python",
   "nbconvert_exporter": "python",
   "pygments_lexer": "ipython3",
   "version": "3.10.18"
  }
 },
 "nbformat": 4,
 "nbformat_minor": 5
}
