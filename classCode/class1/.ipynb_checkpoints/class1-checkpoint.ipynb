{
 "cells": [
  {
   "cell_type": "code",
   "execution_count": 1,
   "id": "fea4ecab",
   "metadata": {},
   "outputs": [],
   "source": [
    "from OCC.Core.gp import gp_Pnt\n",
    "from OCC.Core.BRepBuilderAPI import (\n",
    "    BRepBuilderAPI_MakeVertex, \n",
    "    BRepBuilderAPI_MakeEdge, \n",
    "    BRepBuilderAPI_MakeWire, \n",
    "    BRepBuilderAPI_MakeFace\n",
    ")\n",
    "from OCC.Display.WebGl.jupyter_renderer import JupyterRenderer"
   ]
  },
  {
   "cell_type": "code",
   "execution_count": 8,
   "id": "8bf89168",
   "metadata": {},
   "outputs": [
    {
     "data": {
      "application/vnd.jupyter.widget-view+json": {
       "model_id": "3d49d94e513d449380a0285618fde32c",
       "version_major": 2,
       "version_minor": 0
      },
      "text/plain": [
       "HBox(children=(VBox(children=(HBox(children=(Checkbox(value=True, description='Axes', layout=Layout(height='au…"
      ]
     },
     "metadata": {},
     "output_type": "display_data"
    }
   ],
   "source": [
    "# 1. 创建三个点\n",
    "p1 = gp_Pnt(0, 0, 0)\n",
    "p2 = gp_Pnt(10, 0, 0)\n",
    "p3 = gp_Pnt(5, 10, 0)\n",
    "points = [p1, p2, p3]\n",
    "renderer = JupyterRenderer()\n",
    "renderer.DisplayShape(points, shape_color=\"#009999\")\n",
    "renderer.Display()\n"
   ]
  },
  {
   "cell_type": "code",
   "execution_count": 3,
   "id": "2fa74f7e",
   "metadata": {},
   "outputs": [],
   "source": [
    "# 从点创建顶点\n",
    "vertex1 = BRepBuilderAPI_MakeVertex(p1).Vertex()\n",
    "vertex2 = BRepBuilderAPI_MakeVertex(p2).Vertex()\n",
    "vertex3 = BRepBuilderAPI_MakeVertex(p3).Vertex()\n",
    "\n"
   ]
  },
  {
   "cell_type": "code",
   "execution_count": 4,
   "id": "eb6ad5fc",
   "metadata": {},
   "outputs": [],
   "source": [
    "# 2. 创建三条边 (Edge)\n",
    "edge1 = BRepBuilderAPI_MakeEdge(vertex1, vertex2).Edge()\n",
    "edge2 = BRepBuilderAPI_MakeEdge(vertex2, vertex3).Edge()\n",
    "edge3 = BRepBuilderAPI_MakeEdge(vertex3, vertex1).Edge()\n",
    "\n",
    "\n"
   ]
  },
  {
   "cell_type": "code",
   "execution_count": 12,
   "id": "5cafc31c",
   "metadata": {},
   "outputs": [],
   "source": [
    "# 3. 创建线框 (Wire)\n",
    "wire_maker = BRepBuilderAPI_MakeWire()\n",
    "wire_maker.Add(edge1)\n",
    "wire_maker.Add(edge2)\n",
    "wire_maker.Add(edge3)\n",
    "triangle_wire = wire_maker.Wire()\n",
    "\n"
   ]
  },
  {
   "cell_type": "code",
   "execution_count": 13,
   "id": "34102d9e",
   "metadata": {},
   "outputs": [],
   "source": [
    "# 4. 创建面 (Face)\n",
    "triangle_face = BRepBuilderAPI_MakeFace(triangle_wire).Face()\n",
    "\n"
   ]
  },
  {
   "cell_type": "code",
   "execution_count": 14,
   "id": "9f361381",
   "metadata": {},
   "outputs": [
    {
     "data": {
      "application/vnd.jupyter.widget-view+json": {
       "model_id": "9179d1352f9c4f4eb563310dd8d5acec",
       "version_major": 2,
       "version_minor": 0
      },
      "text/plain": [
       "HBox(children=(VBox(children=(HBox(children=(Checkbox(value=True, description='Axes', layout=Layout(height='au…"
      ]
     },
     "metadata": {},
     "output_type": "display_data"
    }
   ],
   "source": [
    "# 5. 可视化\n",
    "renderer = JupyterRenderer()\n",
    "renderer.DisplayShape(triangle_face, render_edges=True, shape_color=\"#009999\")\n",
    "renderer.Display()"
   ]
  },
  {
   "cell_type": "code",
   "execution_count": 17,
   "id": "fd337142-fd2b-4be0-85cf-a460ea34db41",
   "metadata": {},
   "outputs": [
    {
     "name": "stdout",
     "output_type": "stream",
     "text": [
      "📏 几何属性:\n",
      "   体积: 1000.00\n",
      "   表面积: 600.00\n"
     ]
    },
    {
     "name": "stderr",
     "output_type": "stream",
     "text": [
      "C:\\Users\\asd56\\AppData\\Local\\Temp\\ipykernel_12748\\4131035171.py:8: DeprecationWarning: Call to deprecated function brepgprop_VolumeProperties since pythonocc-core 7.7.1. This function will be removed in a future release, please rather use the static method brepgprop.VolumeProperties\n",
      "  brepgprop_VolumeProperties(shape, props)\n",
      "C:\\Users\\asd56\\AppData\\Local\\Temp\\ipykernel_12748\\4131035171.py:13: DeprecationWarning: Call to deprecated function brepgprop_SurfaceProperties since pythonocc-core 7.7.1. This function will be removed in a future release, please rather use the static method brepgprop.SurfaceProperties\n",
      "  brepgprop_SurfaceProperties(shape, surf_props)\n"
     ]
    },
    {
     "data": {
      "text/plain": [
       "(999.9999999999998, 599.9999999999999)"
      ]
     },
     "execution_count": 17,
     "metadata": {},
     "output_type": "execute_result"
    }
   ],
   "source": []
  }
 ],
 "metadata": {
  "kernelspec": {
   "display_name": "Python 3 (ipykernel)",
   "language": "python",
   "name": "python3"
  },
  "language_info": {
   "codemirror_mode": {
    "name": "ipython",
    "version": 3
   },
   "file_extension": ".py",
   "mimetype": "text/x-python",
   "name": "python",
   "nbconvert_exporter": "python",
   "pygments_lexer": "ipython3",
   "version": "3.10.18"
  }
 },
 "nbformat": 4,
 "nbformat_minor": 5
}
