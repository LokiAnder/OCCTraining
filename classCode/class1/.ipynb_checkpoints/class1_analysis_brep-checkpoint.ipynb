{
 "cells": [
  {
   "cell_type": "code",
   "execution_count": 12,
   "id": "3865139b",
   "metadata": {},
   "outputs": [
    {
     "ename": "ImportError",
     "evalue": "cannot import name 'RepBuilderAPI_MakeEdge' from 'OCC.Core.BRepPrimAPI' (C:\\Users\\asd56\\.conda\\envs\\pyoccenv\\lib\\site-packages\\OCC\\Core\\BRepPrimAPI.py)",
     "output_type": "error",
     "traceback": [
      "\u001b[1;31m---------------------------------------------------------------------------\u001b[0m",
      "\u001b[1;31mImportError\u001b[0m                               Traceback (most recent call last)",
      "Cell \u001b[1;32mIn[12], line 1\u001b[0m\n\u001b[1;32m----> 1\u001b[0m \u001b[38;5;28;01mfrom\u001b[39;00m\u001b[38;5;250m \u001b[39m\u001b[38;5;21;01mOCC\u001b[39;00m\u001b[38;5;21;01m.\u001b[39;00m\u001b[38;5;21;01mCore\u001b[39;00m\u001b[38;5;21;01m.\u001b[39;00m\u001b[38;5;21;01mBRepPrimAPI\u001b[39;00m\u001b[38;5;250m \u001b[39m\u001b[38;5;28;01mimport\u001b[39;00m BRepPrimAPI_MakeBox,RepBuilderAPI_MakeEdge\n\u001b[0;32m      2\u001b[0m \u001b[38;5;28;01mfrom\u001b[39;00m\u001b[38;5;250m \u001b[39m\u001b[38;5;21;01mOCC\u001b[39;00m\u001b[38;5;21;01m.\u001b[39;00m\u001b[38;5;21;01mCore\u001b[39;00m\u001b[38;5;21;01m.\u001b[39;00m\u001b[38;5;21;01mTopExp\u001b[39;00m\u001b[38;5;250m \u001b[39m\u001b[38;5;28;01mimport\u001b[39;00m TopExp_Explorer\n\u001b[0;32m      3\u001b[0m \u001b[38;5;28;01mfrom\u001b[39;00m\u001b[38;5;250m \u001b[39m\u001b[38;5;21;01mOCC\u001b[39;00m\u001b[38;5;21;01m.\u001b[39;00m\u001b[38;5;21;01mCore\u001b[39;00m\u001b[38;5;21;01m.\u001b[39;00m\u001b[38;5;21;01mTopAbs\u001b[39;00m\u001b[38;5;250m \u001b[39m\u001b[38;5;28;01mimport\u001b[39;00m TopAbs_VERTEX, TopAbs_EDGE, TopAbs_FACE\n",
      "\u001b[1;31mImportError\u001b[0m: cannot import name 'RepBuilderAPI_MakeEdge' from 'OCC.Core.BRepPrimAPI' (C:\\Users\\asd56\\.conda\\envs\\pyoccenv\\lib\\site-packages\\OCC\\Core\\BRepPrimAPI.py)"
     ]
    }
   ],
   "source": [
    "from OCC.Core.BRepPrimAPI import BRepPrimAPI_MakeBox\n",
    "from OCC.Core.TopExp import TopExp_Explorer\n",
    "from OCC.Core.TopAbs import TopAbs_VERTEX, TopAbs_EDGE, TopAbs_FACE\n",
    "from OCC.Display.WebGl.jupyter_renderer import JupyterRenderer\n",
    "from OCC.Core.gp import gp_Pnt, gp_Vec\n"
   ]
  },
  {
   "cell_type": "code",
   "execution_count": 6,
   "id": "ce20505b",
   "metadata": {},
   "outputs": [
    {
     "name": "stdout",
     "output_type": "stream",
     "text": [
      "📊 拓扑分析结果:\n",
      "   顶点 (Vertex): 48 个\n",
      "   边   (Edge):   24 个\n",
      "   面   (Face):   6 个\n"
     ]
    },
    {
     "data": {
      "application/vnd.jupyter.widget-view+json": {
       "model_id": "602a1ae8703c4d918225c3c10a38d523",
       "version_major": 2,
       "version_minor": 0
      },
      "text/plain": [
       "HBox(children=(VBox(children=(HBox(children=(Checkbox(value=True, description='Axes', layout=Layout(height='au…"
      ]
     },
     "metadata": {},
     "output_type": "display_data"
    }
   ],
   "source": [
    "# 创建一个立方体\n",
    "box = BRepPrimAPI_MakeBox(10, 20, 30).Shape()\n",
    "\n",
    "# 遍历并统计各层级元素\n",
    "def analyze_shape(shape):\n",
    "    \"\"\"分析形状的拓扑结构\"\"\"\n",
    "    \n",
    "    # 统计顶点\n",
    "    vertex_explorer = TopExp_Explorer(shape, TopAbs_VERTEX)\n",
    "    vertex_count = 0\n",
    "    while vertex_explorer.More():\n",
    "        vertex_count += 1\n",
    "        vertex_explorer.Next()\n",
    "    \n",
    "    # 统计边\n",
    "    edge_explorer = TopExp_Explorer(shape, TopAbs_EDGE)\n",
    "    edge_count = 0\n",
    "    while edge_explorer.More():\n",
    "        edge_count += 1\n",
    "        edge_explorer.Next()\n",
    "    \n",
    "    # 统计面\n",
    "    face_explorer = TopExp_Explorer(shape, TopAbs_FACE)\n",
    "    face_count = 0\n",
    "    while face_explorer.More():\n",
    "        face_count += 1\n",
    "        face_explorer.Next()\n",
    "    \n",
    "    print(f\"📊 拓扑分析结果:\")\n",
    "    print(f\"   顶点 (Vertex): {vertex_count} 个\")\n",
    "    print(f\"   边   (Edge):   {edge_count} 个\") \n",
    "    print(f\"   面   (Face):   {face_count} 个\")\n",
    "    \n",
    "    return vertex_count, edge_count, face_count\n",
    "\n",
    "# 分析立方体\n",
    "analyze_shape(box)\n",
    "\n",
    "# 可视化\n",
    "renderer = JupyterRenderer()\n",
    "renderer.DisplayShape(box, render_edges=True)\n",
    "renderer.Display()"
   ]
  },
  {
   "cell_type": "code",
   "execution_count": 11,
   "id": "a5391aca-6646-44c6-a230-23e88feaca1d",
   "metadata": {},
   "outputs": [
    {
     "ename": "NameError",
     "evalue": "name 'BRepBuilderAPI_MakeEdge' is not defined",
     "output_type": "error",
     "traceback": [
      "\u001b[1;31m---------------------------------------------------------------------------\u001b[0m",
      "\u001b[1;31mNameError\u001b[0m                                 Traceback (most recent call last)",
      "Cell \u001b[1;32mIn[11], line 10\u001b[0m\n\u001b[0;32m      7\u001b[0m p3 \u001b[38;5;241m=\u001b[39m gp_Pnt(\u001b[38;5;241m20\u001b[39m, \u001b[38;5;241m0\u001b[39m, \u001b[38;5;241m0\u001b[39m)\n\u001b[0;32m      9\u001b[0m \u001b[38;5;66;03m# 方案1：直线边\u001b[39;00m\n\u001b[1;32m---> 10\u001b[0m straight_edge \u001b[38;5;241m=\u001b[39m \u001b[43mBRepBuilderAPI_MakeEdge\u001b[49m(\n\u001b[0;32m     11\u001b[0m     GC_MakeSegment(p1, p2)\u001b[38;5;241m.\u001b[39mValue()\n\u001b[0;32m     12\u001b[0m )\u001b[38;5;241m.\u001b[39mEdge()\n\u001b[0;32m     14\u001b[0m \u001b[38;5;66;03m# 方案2：圆弧边  \u001b[39;00m\n\u001b[0;32m     15\u001b[0m arc_edge \u001b[38;5;241m=\u001b[39m BRepBuilderAPI_MakeEdge(\n\u001b[0;32m     16\u001b[0m     GC_MakeArcOfCircle(p1, p2, p3)\u001b[38;5;241m.\u001b[39mValue()\n\u001b[0;32m     17\u001b[0m )\u001b[38;5;241m.\u001b[39mEdge()\n",
      "\u001b[1;31mNameError\u001b[0m: name 'BRepBuilderAPI_MakeEdge' is not defined"
     ]
    }
   ],
   "source": [
    "from OCC.Core.GC import GC_MakeArcOfCircle, GC_MakeSegment\n",
    "from OCC.Core.gp import gp_Pnt, gp_Vec\n",
    "\n",
    "# 三个点\n",
    "p1 = gp_Pnt(0, 0, 0)\n",
    "p2 = gp_Pnt(10, 5, 0)\n",
    "p3 = gp_Pnt(20, 0, 0)\n",
    "\n",
    "# 方案1：直线边\n",
    "straight_edge = BRepBuilderAPI_MakeEdge(\n",
    "    GC_MakeSegment(p1, p2).Value()\n",
    ").Edge()\n",
    "\n",
    "# 方案2：圆弧边  \n",
    "arc_edge = BRepBuilderAPI_MakeEdge(\n",
    "    GC_MakeArcOfCircle(p1, p2, p3).Value()\n",
    ").Edge()\n",
    "\n",
    "print(\"🔄 相同的拓扑关系（连接p1和p2），不同的几何形状（直线 vs 圆弧）\")\n",
    "\n",
    "# 可视化对比\n",
    "renderer = JupyterRenderer()\n",
    "renderer.DisplayShape(straight_edge, color=\"red\", line_width=3)\n",
    "renderer.DisplayShape(arc_edge, color=\"blue\", line_width=3)\n",
    "renderer.Display()"
   ]
  }
 ],
 "metadata": {
  "kernelspec": {
   "display_name": "Python 3 (ipykernel)",
   "language": "python",
   "name": "python3"
  },
  "language_info": {
   "codemirror_mode": {
    "name": "ipython",
    "version": 3
   },
   "file_extension": ".py",
   "mimetype": "text/x-python",
   "name": "python",
   "nbconvert_exporter": "python",
   "pygments_lexer": "ipython3",
   "version": "3.10.18"
  }
 },
 "nbformat": 4,
 "nbformat_minor": 5
}
