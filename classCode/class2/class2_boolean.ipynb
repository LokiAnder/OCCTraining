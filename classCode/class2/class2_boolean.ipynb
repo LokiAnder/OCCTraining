{
 "cells": [
  {
   "cell_type": "code",
   "execution_count": 1,
   "id": "71990177-d970-4b29-a730-803ffcceb97b",
   "metadata": {},
   "outputs": [],
   "source": [
    "from OCC.Core.BRepPrimAPI import BRepPrimAPI_MakeBox, BRepPrimAPI_MakeCylinder\n",
    "from OCC.Core.BRepAlgoAPI import BRepAlgoAPI_Fuse, BRepAlgoAPI_Common, BRepAlgoAPI_Cut\n",
    "from OCC.Core.gp import gp_Pnt, gp_Trsf, gp_Vec\n",
    "from OCC.Core.BRepBuilderAPI import BRepBuilderAPI_Transform\n",
    "from OCC.Display.WebGl.jupyter_renderer import JupyterRenderer\n"
   ]
  },
  {
   "cell_type": "code",
   "execution_count": 2,
   "id": "81f6ae3a-a588-4024-9e26-33b989df3963",
   "metadata": {},
   "outputs": [],
   "source": [
    "\n",
    "# 创建两个基本几何体\n",
    "box = BRepPrimAPI_MakeBox(20, 20, 20).Shape()\n",
    "cylinder = BRepPrimAPI_MakeCylinder(5,5).Shape()"
   ]
  },
  {
   "cell_type": "code",
   "execution_count": 3,
   "id": "fcaad5fc-b752-4b79-ba81-ba0d10dd72dd",
   "metadata": {},
   "outputs": [
    {
     "name": "stdout",
     "output_type": "stream",
     "text": [
      "🎯 布尔运算演示\n",
      "==================================================\n"
     ]
    }
   ],
   "source": [
    "print(\"🎯 布尔运算演示\")\n",
    "print(\"=\" * 50)\n",
    "\n",
    "# 1. 并集运算 (Union)\n",
    "union_op = BRepAlgoAPI_Fuse(box, cylinder)\n",
    "union_result = union_op.Shape()\n"
   ]
  },
  {
   "cell_type": "code",
   "execution_count": 4,
   "id": "5e35ebab-c8a8-463e-a0e5-5ae190e9ef01",
   "metadata": {},
   "outputs": [],
   "source": [
    "\n",
    "# 2. 交集运算 (Intersection)  \n",
    "intersection_op = BRepAlgoAPI_Common(box, cylinder)\n",
    "intersection_result = intersection_op.Shape()\n"
   ]
  },
  {
   "cell_type": "code",
   "execution_count": 5,
   "id": "e9e0950e-98cb-4350-aae5-cccd6fd752aa",
   "metadata": {},
   "outputs": [],
   "source": [
    "\n",
    "# 3. 差集运算 (Difference)\n",
    "difference_op = BRepAlgoAPI_Cut(box, cylinder)\n",
    "difference_result = difference_op.Shape()\n"
   ]
  },
  {
   "cell_type": "code",
   "execution_count": 7,
   "id": "b90a8859-d921-4693-8f94-f188c88708f2",
   "metadata": {},
   "outputs": [
    {
     "data": {
      "application/vnd.jupyter.widget-view+json": {
       "model_id": "97490479a793489cb3ff22cbe1e00e89",
       "version_major": 2,
       "version_minor": 0
      },
      "text/plain": [
       "HBox(children=(VBox(children=(HBox(children=(Checkbox(value=True, description='Axes', layout=Layout(height='au…"
      ]
     },
     "metadata": {},
     "output_type": "display_data"
    }
   ],
   "source": [
    "# 可视化结果\n",
    "renderer = JupyterRenderer()\n",
    "renderer.DisplayShape(union_result, shape_color=\"#009999\",render_edges = True,transparency=True,opacity = 0.5)\n",
    "# renderer.DisplayShape(\n",
    "#         cylinder, \n",
    "#         shape_color=\"#009999\",\n",
    "#         render_edges=True,          # 关闭边线渲染\n",
    "#         edge_color=\"#000000\",\n",
    "#         transparency=False,\n",
    "#         opacity=1.0\n",
    "#     )\n",
    "#renderer.DisplayShape(sphere, shape_color=\"#009999\")\n",
    "renderer.Display()\n"
   ]
  },
  {
   "cell_type": "code",
   "execution_count": null,
   "id": "ae04693d-82df-41c6-b387-2a3381d8ebd8",
   "metadata": {},
   "outputs": [],
   "source": []
  }
 ],
 "metadata": {
  "kernelspec": {
   "display_name": "Python 3 (ipykernel)",
   "language": "python",
   "name": "python3"
  },
  "language_info": {
   "codemirror_mode": {
    "name": "ipython",
    "version": 3
   },
   "file_extension": ".py",
   "mimetype": "text/x-python",
   "name": "python",
   "nbconvert_exporter": "python",
   "pygments_lexer": "ipython3",
   "version": "3.10.18"
  }
 },
 "nbformat": 4,
 "nbformat_minor": 5
}
