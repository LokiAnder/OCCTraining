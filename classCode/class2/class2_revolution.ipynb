{
 "cells": [
  {
   "cell_type": "code",
   "execution_count": 5,
   "id": "907e2dea-dc49-4390-9a56-c9b0d6af32cc",
   "metadata": {},
   "outputs": [],
   "source": [
    "from OCC.Core.BRepPrimAPI import BRepPrimAPI_MakeRevol\n",
    "from OCC.Core.gp import gp_Pnt, gp_Ax1, gp_Dir\n",
    "from OCC.Core.BRepBuilderAPI import BRepBuilderAPI_MakeEdge,BRepBuilderAPI_MakeWire\n",
    "from OCC.Display.WebGl.jupyter_renderer import JupyterRenderer\n",
    "import math\n"
   ]
  },
  {
   "cell_type": "code",
   "execution_count": 3,
   "id": "8082cb1c-72dc-4258-8ddd-93fbaaebe22f",
   "metadata": {},
   "outputs": [
    {
     "name": "stdout",
     "output_type": "stream",
     "text": [
      "🏺 创建花瓶形状\n",
      "==============================\n",
      "✅ 定义轮廓: 8 个控制点\n",
      "✅ 轮廓线框创建完成\n",
      "✅ 旋转操作完成\n",
      "🏺 花瓶模型创建成功!\n"
     ]
    },
    {
     "data": {
      "application/vnd.jupyter.widget-view+json": {
       "model_id": "557c74a563ec4b558d84efb5b8f6d71a",
       "version_major": 2,
       "version_minor": 0
      },
      "text/plain": [
       "HBox(children=(VBox(children=(HBox(children=(Checkbox(value=True, description='Axes', layout=Layout(height='au…"
      ]
     },
     "metadata": {},
     "output_type": "display_data"
    }
   ],
   "source": [
    "\n",
    "def create_vase_by_revolution():\n",
    "    \"\"\"通过旋转创建花瓶形状\"\"\"\n",
    "    \n",
    "    print(\"🏺 创建花瓶形状\")\n",
    "    print(\"=\" * 30)\n",
    "    \n",
    "    # 1. 定义花瓶的轮廓线（半边轮廓）\n",
    "    profile_points = [\n",
    "        gp_Pnt(0, 0, 0),      # 底部中心\n",
    "        gp_Pnt(15, 0, 0),     # 底部外边\n",
    "        gp_Pnt(12, 0, 5),     # 底部收缩\n",
    "        gp_Pnt(8, 0, 15),     # 腰部最细\n",
    "        gp_Pnt(12, 0, 25),    # 肚子部分\n",
    "        gp_Pnt(10, 0, 35),    # 颈部\n",
    "        gp_Pnt(12, 0, 40),    # 瓶口\n",
    "        gp_Pnt(0, 0, 40)      # 顶部中心\n",
    "    ]\n",
    "    \n",
    "    print(f\"✅ 定义轮廓: {len(profile_points)} 个控制点\")\n",
    "    \n",
    "    # 2. 创建轮廓边\n",
    "    profile_edges = []\n",
    "    for i in range(len(profile_points)-1):\n",
    "        edge = BRepBuilderAPI_MakeEdge(profile_points[i], profile_points[i+1]).Edge()\n",
    "        profile_edges.append(edge)\n",
    "    \n",
    "    # 3. 组装轮廓线框\n",
    "    profile_wire_maker = BRepBuilderAPI_MakeWire()\n",
    "    for edge in profile_edges:\n",
    "        profile_wire_maker.Add(edge)\n",
    "    \n",
    "    profile_wire = profile_wire_maker.Wire()\n",
    "    print(\"✅ 轮廓线框创建完成\")\n",
    "    \n",
    "    # 4. 定义旋转轴 (Z轴)\n",
    "    rotation_axis = gp_Ax1(gp_Pnt(0, 0, 0), gp_Dir(0, 0, 1))\n",
    "    \n",
    "    # 5. 执行旋转 (360度 = 2π弧度)\n",
    "    revolution_operation = BRepPrimAPI_MakeRevol(profile_wire, rotation_axis, 2 * math.pi)\n",
    "    vase = revolution_operation.Shape()\n",
    "    \n",
    "    print(\"✅ 旋转操作完成\")\n",
    "    print(\"🏺 花瓶模型创建成功!\")\n",
    "    \n",
    "    return vase\n",
    "\n",
    "# 执行建模\n",
    "vase_shape = create_vase_by_revolution()\n",
    "\n",
    "if vase_shape:\n",
    "    # 可视化\n",
    "    renderer = JupyterRenderer()\n",
    "    renderer.DisplayShape(vase_shape, shape_color=\"#E74C3C\", transparency=True,opacity = 0.3)\n",
    "    renderer.Display()"
   ]
  }
 ],
 "metadata": {
  "kernelspec": {
   "display_name": "Python 3 (ipykernel)",
   "language": "python",
   "name": "python3"
  },
  "language_info": {
   "codemirror_mode": {
    "name": "ipython",
    "version": 3
   },
   "file_extension": ".py",
   "mimetype": "text/x-python",
   "name": "python",
   "nbconvert_exporter": "python",
   "pygments_lexer": "ipython3",
   "version": "3.10.18"
  }
 },
 "nbformat": 4,
 "nbformat_minor": 5
}
