{
 "cells": [
  {
   "cell_type": "code",
   "execution_count": 25,
   "id": "b10bc8ec-dfb3-45a1-a5fd-12d2ac1f6d5f",
   "metadata": {},
   "outputs": [
    {
     "name": "stdout",
     "output_type": "stream",
     "text": [
      "☕ 创建咖啡杯模型\n",
      "========================================\n",
      "✅ 杯身创建完成: 半径25, 高度40\n",
      "✅ 内部空腔创建并定位完成\n",
      "✅ 杯身挖空完成\n",
      "✅ 把手路径创建完成\n",
      "✅ 把手创建完成\n",
      "✅ 咖啡杯组装完成\n",
      "📊 模型分析:\n",
      "   体积: 21223.39 立方单位\n",
      "   表面积: 16019.04 平方单位\n",
      "   等效球半径: 17.18\n"
     ]
    },
    {
     "name": "stderr",
     "output_type": "stream",
     "text": [
      "C:\\Users\\asd56\\AppData\\Local\\Temp\\ipykernel_36304\\3530067798.py:92: DeprecationWarning: Call to deprecated function brepgprop_VolumeProperties since pythonocc-core 7.7.1. This function will be removed in a future release, please rather use the static method brepgprop.VolumeProperties\n",
      "  brepgprop_VolumeProperties(shape, props)\n",
      "C:\\Users\\asd56\\AppData\\Local\\Temp\\ipykernel_36304\\3530067798.py:96: DeprecationWarning: Call to deprecated function brepgprop_SurfaceProperties since pythonocc-core 7.7.1. This function will be removed in a future release, please rather use the static method brepgprop.SurfaceProperties\n",
      "  brepgprop_SurfaceProperties(shape, surf_props)\n"
     ]
    },
    {
     "data": {
      "application/vnd.jupyter.widget-view+json": {
       "model_id": "25a90bdc6e0141e39c843a653cc97bca",
       "version_major": 2,
       "version_minor": 0
      },
      "text/plain": [
       "HBox(children=(VBox(children=(HBox(children=(Checkbox(value=True, description='Axes', layout=Layout(height='au…"
      ]
     },
     "metadata": {},
     "output_type": "display_data"
    }
   ],
   "source": [
    "from OCC.Core.BRepPrimAPI import BRepPrimAPI_MakeRevol,BRepPrimAPI_MakeCylinder\n",
    "from OCC.Core.gp import gp_Pnt, gp_Ax1, gp_Dir,gp_Trsf,gp_Vec,gp_Ax2\n",
    "from OCC.Core.BRepBuilderAPI import BRepBuilderAPI_MakeEdge,BRepBuilderAPI_MakeWire,BRepBuilderAPI_Transform\n",
    "from OCC.Core.BRepAlgoAPI import BRepAlgoAPI_Cut,BRepAlgoAPI_Fuse\n",
    "from OCC.Display.WebGl.jupyter_renderer import JupyterRenderer\n",
    "import math\n",
    "\n",
    "def create_coffee_mug():\n",
    "    \"\"\"创建一个带把手的咖啡杯\"\"\"\n",
    "    \n",
    "    print(\"☕ 创建咖啡杯模型\")\n",
    "    print(\"=\" * 40)\n",
    "    \n",
    "    # 1. 创建杯身（圆柱体）\n",
    "    cup_body = BRepPrimAPI_MakeCylinder(25, 40).Shape()\n",
    "    print(\"✅ 杯身创建完成: 半径25, 高度40\")\n",
    "    \n",
    "    # 2. 创建内部空腔（稍小的圆柱体）\n",
    "    inner_cavity = BRepPrimAPI_MakeCylinder(22, 38).Shape()\n",
    "    \n",
    "    # 移动内部空腔向上2单位（留底部厚度）\n",
    "    transform = gp_Trsf()\n",
    "    transform.SetTranslation(gp_Vec(0, 0, 2))\n",
    "    moved_cavity = BRepBuilderAPI_Transform(inner_cavity, transform).Shape()\n",
    "    print(\"✅ 内部空腔创建并定位完成\")\n",
    "    \n",
    "    # 3. 挖空杯身（杯身 - 内部空腔）\n",
    "    hollow_operation = BRepAlgoAPI_Cut(cup_body, moved_cavity)\n",
    "    hollow_cup = hollow_operation.Shape()\n",
    "    print(\"✅ 杯身挖空完成\")\n",
    "    \n",
    "    # 4. 创建把手（环形拉伸）\n",
    "    # 创建把手的截面轮廓（圆形）\n",
    "    handle_center = gp_Pnt(35, 0, 20)  # 把手中心位置\n",
    "    handle_profile = BRepPrimAPI_MakeCylinder(3, 5).Shape()  # 截面圆\n",
    "    \n",
    "    # 把手路径（半圆弧）\n",
    "    import math\n",
    "    handle_points = []\n",
    "    for angle in range(0, 181, 20):  # 0到180度，步长20度\n",
    "        rad = math.radians(angle)\n",
    "        x = 35 + 8 * math.cos(rad)\n",
    "        y = 8 * math.sin(rad)\n",
    "        z = 20\n",
    "        handle_points.append(gp_Pnt(x, y, z))\n",
    "    \n",
    "    # 创建把手路径\n",
    "    handle_edges = []\n",
    "    for i in range(len(handle_points)-1):\n",
    "        edge = BRepBuilderAPI_MakeEdge(handle_points[i], handle_points[i+1]).Edge()\n",
    "        handle_edges.append(edge)\n",
    "    \n",
    "    handle_wire_maker = BRepBuilderAPI_MakeWire()\n",
    "    for edge in handle_edges:\n",
    "        handle_wire_maker.Add(edge)\n",
    "    handle_path = handle_wire_maker.Wire()\n",
    "    \n",
    "    print(\"✅ 把手路径创建完成\")\n",
    "    \n",
    "    # 5. 创建把手（圆形截面沿路径扫掠）\n",
    "    # 简化版：使用环形近似把手\n",
    "    handle_torus = BRepPrimAPI_MakeCylinder(\n",
    "        gp_Ax2(gp_Pnt(30, 0, 20), gp_Dir(0, 1, 0)), 10, 5\n",
    "    ).Shape()\n",
    "    \n",
    "    # 创建把手孔\n",
    "    handle_hole = BRepPrimAPI_MakeCylinder(\n",
    "        gp_Ax2(gp_Pnt(30, -1, 20), gp_Dir(0, 1, 0)), 8, 17\n",
    "    ).Shape()\n",
    "    \n",
    "    handle_solid = BRepAlgoAPI_Cut(handle_torus, handle_hole).Shape()\n",
    "    print(\"✅ 把手创建完成\")\n",
    "    \n",
    "    # 6. 组合杯身和把手\n",
    "    final_mug = BRepAlgoAPI_Fuse(hollow_cup, handle_solid).Shape()\n",
    "    print(\"✅ 咖啡杯组装完成\")\n",
    "    \n",
    "    return final_mug\n",
    "\n",
    "# 执行建模\n",
    "coffee_mug = create_coffee_mug()\n",
    "\n",
    "if coffee_mug:\n",
    "    # 分析模型\n",
    "    def analyze_shape_advanced(shape):\n",
    "        \"\"\"分析形状的高级属性\"\"\"\n",
    "        from OCC.Core.GProp import GProp_GProps\n",
    "        from OCC.Core.BRepGProp import brepgprop_VolumeProperties, brepgprop_SurfaceProperties\n",
    "        \n",
    "        # 体积和表面积\n",
    "        props = GProp_GProps()\n",
    "        brepgprop_VolumeProperties(shape, props)\n",
    "        volume = props.Mass()\n",
    "        \n",
    "        surf_props = GProp_GProps()\n",
    "        brepgprop_SurfaceProperties(shape, surf_props)\n",
    "        surface_area = surf_props.Mass()\n",
    "        \n",
    "        print(f\"📊 模型分析:\")\n",
    "        print(f\"   体积: {volume:.2f} 立方单位\")\n",
    "        print(f\"   表面积: {surface_area:.2f} 平方单位\")\n",
    "        print(f\"   等效球半径: {(3*volume/(4*math.pi))**(1/3):.2f}\")\n",
    "    \n",
    "    analyze_shape_advanced(coffee_mug)\n",
    "    \n",
    "    # 可视化\n",
    "    renderer = JupyterRenderer()\n",
    "    renderer.DisplayShape(coffee_mug, shape_color=\"#8E44AD\")\n",
    "    renderer.Display()"
   ]
  },
  {
   "cell_type": "code",
   "execution_count": 17,
   "id": "c6d3b096-f86a-4f23-8bd6-07dd44bcbae9",
   "metadata": {},
   "outputs": [
    {
     "ename": "NameError",
     "evalue": "name 'handle_center' is not defined",
     "output_type": "error",
     "traceback": [
      "\u001b[1;31m---------------------------------------------------------------------------\u001b[0m",
      "\u001b[1;31mNameError\u001b[0m                                 Traceback (most recent call last)",
      "Cell \u001b[1;32mIn[17], line 2\u001b[0m\n\u001b[0;32m      1\u001b[0m renderer \u001b[38;5;241m=\u001b[39m JupyterRenderer()\n\u001b[1;32m----> 2\u001b[0m renderer\u001b[38;5;241m.\u001b[39mDisplayShape(\u001b[43mhandle_center\u001b[49m, shape_color\u001b[38;5;241m=\u001b[39m\u001b[38;5;124m\"\u001b[39m\u001b[38;5;124m#8E44AD\u001b[39m\u001b[38;5;124m\"\u001b[39m)\n\u001b[0;32m      3\u001b[0m renderer\u001b[38;5;241m.\u001b[39mDisplay()\n",
      "\u001b[1;31mNameError\u001b[0m: name 'handle_center' is not defined"
     ]
    }
   ],
   "source": []
  }
 ],
 "metadata": {
  "kernelspec": {
   "display_name": "Python 3 (ipykernel)",
   "language": "python",
   "name": "python3"
  },
  "language_info": {
   "codemirror_mode": {
    "name": "ipython",
    "version": 3
   },
   "file_extension": ".py",
   "mimetype": "text/x-python",
   "name": "python",
   "nbconvert_exporter": "python",
   "pygments_lexer": "ipython3",
   "version": "3.10.18"
  }
 },
 "nbformat": 4,
 "nbformat_minor": 5
}
