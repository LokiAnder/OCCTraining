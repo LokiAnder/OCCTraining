{
 "cells": [
  {
   "cell_type": "code",
   "execution_count": 1,
   "id": "3e94af9f-4247-40dc-be15-e001e596c6b4",
   "metadata": {},
   "outputs": [],
   "source": [
    "from OCC.Core.BRepPrimAPI import BRepPrimAPI_MakeBox, BRepPrimAPI_MakeCylinder\n",
    "from OCC.Core.BRepAlgoAPI import BRepAlgoAPI_Cut\n",
    "from OCC.Core.gp import gp_Pnt, gp_Ax2, gp_Dir\n",
    "from OCC.Display.WebGl.jupyter_renderer import JupyterRenderer\n",
    "\n",
    "def create_box_with_hole():\n",
    "    \"\"\"创建带孔的立方体\"\"\"\n",
    "    \n",
    "    # 1. 创建主体立方体 (30x30x30)\n",
    "    main_box = BRepPrimAPI_MakeBox(30, 30, 30).Shape()\n",
    "    print(\"✅ 创建主体立方体: 30×30×30\")\n",
    "    \n",
    "    # 2. 创建圆柱孔 (半径5, 高度35 - 比立方体稍高确保完全穿透)\n",
    "    cylinder_axis = gp_Ax2(gp_Pnt(15, 15, -2.5), gp_Dir(0, 0, 1))\n",
    "    cylinder_hole = BRepPrimAPI_MakeCylinder(cylinder_axis, 5, 35).Shape()\n",
    "    print(\"✅ 创建圆柱孔: 半径5, 高度35\")\n",
    "    \n",
    "    # 3. 执行差集运算 (立方体 - 圆柱)\n",
    "    cut_operation = BRepAlgoAPI_Cut(main_box, cylinder_hole)\n",
    "    \n",
    "    if cut_operation.IsDone():\n",
    "        result = cut_operation.Shape()\n",
    "        print(\"✅ 布尔运算完成\")\n",
    "        return result\n",
    "    else:\n",
    "        print(\"❌ 布尔运算失败\")\n",
    "        return None\n"
   ]
  },
  {
   "cell_type": "code",
   "execution_count": 4,
   "id": "7c24b440-3384-4181-a166-a5510158fb9c",
   "metadata": {},
   "outputs": [
    {
     "name": "stdout",
     "output_type": "stream",
     "text": [
      "✅ 创建主体立方体: 30×30×30\n",
      "✅ 创建圆柱孔: 半径5, 高度35\n",
      "✅ 布尔运算完成\n",
      "📊 结果分析: 共有 7 个面\n",
      "💡 思考：为什么面数发生了变化？\n"
     ]
    },
    {
     "data": {
      "application/vnd.jupyter.widget-view+json": {
       "model_id": "30a1e6a9ce7747f3bd0938fbb6628f6b",
       "version_major": 2,
       "version_minor": 0
      },
      "text/plain": [
       "HBox(children=(VBox(children=(HBox(children=(Checkbox(value=True, description='Axes', layout=Layout(height='au…"
      ]
     },
     "metadata": {},
     "output_type": "display_data"
    }
   ],
   "source": [
    "\n",
    "# 执行建模\n",
    "box_with_hole = create_box_with_hole()\n",
    "\n",
    "if box_with_hole:\n",
    "    # 分析结果\n",
    "    from OCC.Core.TopExp import TopExp_Explorer\n",
    "    from OCC.Core.TopAbs import TopAbs_FACE\n",
    "    \n",
    "    face_explorer = TopExp_Explorer(box_with_hole, TopAbs_FACE)\n",
    "    face_count = 0\n",
    "    while face_explorer.More():\n",
    "        face_count += 1\n",
    "        face_explorer.Next()\n",
    "    \n",
    "    print(f\"📊 结果分析: 共有 {face_count} 个面\")\n",
    "    print(\"💡 思考：为什么面数发生了变化？\")\n",
    "    \n",
    "    # 可视化\n",
    "    renderer = JupyterRenderer()\n",
    "    renderer.DisplayShape(box_with_hole, render_edges = True,shape_color=\"#4ECDC4\",transparency=True,opacity = 0.3)\n",
    "    renderer.Display()"
   ]
  },
  {
   "cell_type": "code",
   "execution_count": null,
   "id": "b3bfe05a-d06a-4d4e-b694-c169374b48e1",
   "metadata": {},
   "outputs": [],
   "source": []
  }
 ],
 "metadata": {
  "kernelspec": {
   "display_name": "Python 3 (ipykernel)",
   "language": "python",
   "name": "python3"
  },
  "language_info": {
   "codemirror_mode": {
    "name": "ipython",
    "version": 3
   },
   "file_extension": ".py",
   "mimetype": "text/x-python",
   "name": "python",
   "nbconvert_exporter": "python",
   "pygments_lexer": "ipython3",
   "version": "3.10.18"
  }
 },
 "nbformat": 4,
 "nbformat_minor": 5
}
