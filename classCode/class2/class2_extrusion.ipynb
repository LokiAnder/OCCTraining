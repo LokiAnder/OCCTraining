{
 "cells": [
  {
   "cell_type": "code",
   "execution_count": 2,
   "id": "dde2b922-612a-47fe-b66d-1295acac3355",
   "metadata": {},
   "outputs": [
    {
     "name": "stdout",
     "output_type": "stream",
     "text": [
      "🎯 创建L形截面拉伸实体\n",
      "========================================\n",
      "✅ 定义了 6 个关键点\n",
      "   边 1: P1 → P2\n",
      "   边 2: P2 → P3\n",
      "   边 3: P3 → P4\n",
      "   边 4: P4 → P5\n",
      "   边 5: P5 → P6\n",
      "   边 6: P6 → P7\n",
      "✅ L形线框创建成功\n",
      "✅ L形面创建成功\n",
      "✅ 拉伸完成: 高度15单位\n"
     ]
    },
    {
     "data": {
      "application/vnd.jupyter.widget-view+json": {
       "model_id": "421c117b0f0a4c15b1f804f6b1062a13",
       "version_major": 2,
       "version_minor": 0
      },
      "text/plain": [
       "HBox(children=(VBox(children=(HBox(children=(Checkbox(value=True, description='Axes', layout=Layout(height='au…"
      ]
     },
     "metadata": {},
     "output_type": "display_data"
    }
   ],
   "source": [
    "from OCC.Core.gp import gp_Pnt, gp_Vec, gp_Dir\n",
    "from OCC.Core.BRepBuilderAPI import BRepBuilderAPI_MakeEdge, BRepBuilderAPI_MakeWire, BRepBuilderAPI_MakeFace\n",
    "from OCC.Core.BRepPrimAPI import BRepPrimAPI_MakePrism\n",
    "from OCC.Core.GC import GC_MakeSegment, GC_MakeArcOfCircle\n",
    "from OCC.Display.WebGl.jupyter_renderer import JupyterRenderer\n",
    "def create_L_shape_extrusion():\n",
    "    \"\"\"创建L形截面的拉伸实体\"\"\"\n",
    "    \n",
    "    print(\"🎯 创建L形截面拉伸实体\")\n",
    "    print(\"=\" * 40)\n",
    "    \n",
    "    # 1. 定义L形轮廓的关键点\n",
    "    points = [\n",
    "        gp_Pnt(0, 0, 0),    # P1: 起点\n",
    "        gp_Pnt(30, 0, 0),   # P2: 底边右端\n",
    "        gp_Pnt(30, 10, 0),  # P3: 短边顶端\n",
    "        gp_Pnt(10, 10, 0),  # P4: 内角点\n",
    "        gp_Pnt(10, 20, 0),  # P5: 长边底端\n",
    "        gp_Pnt(0, 20, 0),   # P6: 长边顶端\n",
    "        gp_Pnt(0, 0, 0)     # P7: 回到起点（闭合）\n",
    "    ]\n",
    "    \n",
    "    print(f\"✅ 定义了 {len(points)-1} 个关键点\")\n",
    "    \n",
    "    # 2. 创建边\n",
    "    edges = []\n",
    "    for i in range(len(points)-1):\n",
    "        edge = BRepBuilderAPI_MakeEdge(points[i], points[i+1]).Edge()\n",
    "        edges.append(edge)\n",
    "        print(f\"   边 {i+1}: P{i+1} → P{i+2}\")\n",
    "    \n",
    "    # 3. 组装线框 (Wire)\n",
    "    wire_maker = BRepBuilderAPI_MakeWire()\n",
    "    for edge in edges:\n",
    "        wire_maker.Add(edge)\n",
    "    \n",
    "    if wire_maker.IsDone():\n",
    "        L_wire = wire_maker.Wire()\n",
    "        print(\"✅ L形线框创建成功\")\n",
    "    else:\n",
    "        print(\"❌ 线框创建失败\")\n",
    "        return None\n",
    "    \n",
    "    # 4. 创建面 (Face)\n",
    "    L_face = BRepBuilderAPI_MakeFace(L_wire).Face()\n",
    "    print(\"✅ L形面创建成功\")\n",
    "    \n",
    "    # 5. 拉伸成实体 (向Z方向拉伸15单位)\n",
    "    extrusion_vector = gp_Vec(0, 0, 15)\n",
    "    L_solid = BRepPrimAPI_MakePrism(L_face, extrusion_vector).Shape()\n",
    "    print(\"✅ 拉伸完成: 高度15单位\")\n",
    "    \n",
    "    return L_solid\n",
    "\n",
    "# 执行建模\n",
    "L_shape = create_L_shape_extrusion()\n",
    "\n",
    "if L_shape:\n",
    "    # 可视化\n",
    "    renderer = JupyterRenderer()\n",
    "    renderer.DisplayShape(L_shape, shape_color=\"#FF9F43\")\n",
    "    renderer.Display()"
   ]
  }
 ],
 "metadata": {
  "kernelspec": {
   "display_name": "Python 3 (ipykernel)",
   "language": "python",
   "name": "python3"
  },
  "language_info": {
   "codemirror_mode": {
    "name": "ipython",
    "version": 3
   },
   "file_extension": ".py",
   "mimetype": "text/x-python",
   "name": "python",
   "nbconvert_exporter": "python",
   "pygments_lexer": "ipython3",
   "version": "3.10.18"
  }
 },
 "nbformat": 4,
 "nbformat_minor": 5
}
