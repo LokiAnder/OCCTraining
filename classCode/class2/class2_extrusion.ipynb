{
 "cells": [
  {
   "cell_type": "code",
   "execution_count": 9,
   "id": "dde2b922-612a-47fe-b66d-1295acac3355",
   "metadata": {},
   "outputs": [
    {
     "name": "stdout",
     "output_type": "stream",
     "text": [
      "🎯 创建L形截面拉伸实体\n",
      "========================================\n",
      "✅ 定义了 6 个关键点\n",
      "   边 1: P1 → P2\n",
      "   边 2: P2 → P3\n",
      "   边 3: P3 → P4\n",
      "   边 4: P4 → P5\n",
      "   边 5: P5 → P6\n",
      "   边 6: P6 → P7\n",
      "✅ L形线框创建成功\n",
      "✅ L形面创建成功\n",
      "✅ 拉伸完成: 高度15单位\n"
     ]
    },
    {
     "data": {
      "application/vnd.jupyter.widget-view+json": {
       "model_id": "8b6080799edd4a2cbc0a4008a3b8116d",
       "version_major": 2,
       "version_minor": 0
      },
      "text/plain": [
       "HBox(children=(VBox(children=(HBox(children=(Checkbox(value=True, description='Axes', layout=Layout(height='au…"
      ]
     },
     "metadata": {},
     "output_type": "display_data"
    }
   ],
   "source": [
    "from OCC.Core.gp import gp_Pnt, gp_Vec, gp_Dir\n",
    "from OCC.Core.BRepBuilderAPI import BRepBuilderAPI_MakeEdge, BRepBuilderAPI_MakeWire, BRepBuilderAPI_MakeFace\n",
    "from OCC.Core.BRepPrimAPI import BRepPrimAPI_MakePrism\n",
    "from OCC.Core.GC import GC_MakeSegment, GC_MakeArcOfCircle\n",
    "from OCC.Display.WebGl.jupyter_renderer import JupyterRenderer\n",
    "def create_L_shape_extrusion():\n",
    "    \"\"\"创建L形截面的拉伸实体\"\"\"\n",
    "    \n",
    "    print(\"🎯 创建L形截面拉伸实体\")\n",
    "    print(\"=\" * 40)\n",
    "    \n",
    "    # 1. 定义L形轮廓的关键点\n",
    "    points = [\n",
    "        gp_Pnt(0, 0, 0),    # P1: 起点\n",
    "        gp_Pnt(30, 0, 0),   # P2: 底边右端\n",
    "        gp_Pnt(30, 10, 0),  # P3: 短边顶端\n",
    "        gp_Pnt(10, 10, 0),  # P4: 内角点\n",
    "        gp_Pnt(10, 20, 0),  # P5: 长边底端\n",
    "        gp_Pnt(0, 20, 0),   # P6: 长边顶端\n",
    "        gp_Pnt(0, 0, 0)     # P7: 回到起点（闭合）\n",
    "    ]\n",
    "    \n",
    "    print(f\"✅ 定义了 {len(points)-1} 个关键点\")\n",
    "    \n",
    "    # 2. 创建边\n",
    "    edges = []\n",
    "    for i in range(len(points)-1):\n",
    "        edge = BRepBuilderAPI_MakeEdge(points[i], points[i+1]).Edge()\n",
    "        edges.append(edge)\n",
    "        print(f\"   边 {i+1}: P{i+1} → P{i+2}\")\n",
    "    \n",
    "    # 3. 组装线框 (Wire)\n",
    "    wire_maker = BRepBuilderAPI_MakeWire()\n",
    "    for edge in edges:\n",
    "        wire_maker.Add(edge)\n",
    "    \n",
    "    if wire_maker.IsDone():\n",
    "        L_wire = wire_maker.Wire()\n",
    "        print(\"✅ L形线框创建成功\")\n",
    "    else:\n",
    "        print(\"❌ 线框创建失败\")\n",
    "        return None\n",
    "    \n",
    "    # 4. 创建面 (Face)\n",
    "    L_face = BRepBuilderAPI_MakeFace(L_wire).Face()\n",
    "    print(\"✅ L形面创建成功\")\n",
    "    \n",
    "    # 5. 拉伸成实体 (向Z方向拉伸15单位)\n",
    "    extrusion_vector = gp_Vec(0, 0, 15)\n",
    "    L_solid = BRepPrimAPI_MakePrism(L_face, extrusion_vector).Shape()\n",
    "    print(\"✅ 拉伸完成: 高度15单位\")\n",
    "    \n",
    "    return L_solid\n",
    "\n",
    "# 执行建模\n",
    "L_shape = create_L_shape_extrusion()\n",
    "\n",
    "if L_shape:\n",
    "    # 可视化\n",
    "    renderer = JupyterRenderer()\n",
    "    renderer.DisplayShape(L_shape, shape_color=\"#FF9F43\")\n",
    "    renderer.Display()"
   ]
  },
  {
   "cell_type": "code",
   "execution_count": 8,
   "id": "7bc30781-38c4-4b9b-b16b-b6ff8dd06390",
   "metadata": {},
   "outputs": [
    {
     "ename": "TypeError",
     "evalue": "Wrong number or type of arguments for overloaded function 'new_BRepBuilderAPI_MakeFace'.\n  Possible C/C++ prototypes are:\n    BRepBuilderAPI_MakeFace::BRepBuilderAPI_MakeFace()\n    BRepBuilderAPI_MakeFace::BRepBuilderAPI_MakeFace(TopoDS_Face const &)\n    BRepBuilderAPI_MakeFace::BRepBuilderAPI_MakeFace(gp_Pln const &)\n    BRepBuilderAPI_MakeFace::BRepBuilderAPI_MakeFace(gp_Cylinder const &)\n    BRepBuilderAPI_MakeFace::BRepBuilderAPI_MakeFace(gp_Cone const &)\n    BRepBuilderAPI_MakeFace::BRepBuilderAPI_MakeFace(gp_Sphere const &)\n    BRepBuilderAPI_MakeFace::BRepBuilderAPI_MakeFace(gp_Torus const &)\n    BRepBuilderAPI_MakeFace::BRepBuilderAPI_MakeFace(opencascade::handle< Geom_Surface > const &,Standard_Real const)\n    BRepBuilderAPI_MakeFace::BRepBuilderAPI_MakeFace(gp_Pln const &,Standard_Real const,Standard_Real const,Standard_Real const,Standard_Real const)\n    BRepBuilderAPI_MakeFace::BRepBuilderAPI_MakeFace(gp_Cylinder const &,Standard_Real const,Standard_Real const,Standard_Real const,Standard_Real const)\n    BRepBuilderAPI_MakeFace::BRepBuilderAPI_MakeFace(gp_Cone const &,Standard_Real const,Standard_Real const,Standard_Real const,Standard_Real const)\n    BRepBuilderAPI_MakeFace::BRepBuilderAPI_MakeFace(gp_Sphere const &,Standard_Real const,Standard_Real const,Standard_Real const,Standard_Real const)\n    BRepBuilderAPI_MakeFace::BRepBuilderAPI_MakeFace(gp_Torus const &,Standard_Real const,Standard_Real const,Standard_Real const,Standard_Real const)\n    BRepBuilderAPI_MakeFace::BRepBuilderAPI_MakeFace(opencascade::handle< Geom_Surface > const &,Standard_Real const,Standard_Real const,Standard_Real const,Standard_Real const,Standard_Real const)\n    BRepBuilderAPI_MakeFace::BRepBuilderAPI_MakeFace(TopoDS_Wire const &,Standard_Boolean const)\n    BRepBuilderAPI_MakeFace::BRepBuilderAPI_MakeFace(gp_Pln const &,TopoDS_Wire const &,Standard_Boolean const)\n    BRepBuilderAPI_MakeFace::BRepBuilderAPI_MakeFace(gp_Cylinder const &,TopoDS_Wire const &,Standard_Boolean const)\n    BRepBuilderAPI_MakeFace::BRepBuilderAPI_MakeFace(gp_Cone const &,TopoDS_Wire const &,Standard_Boolean const)\n    BRepBuilderAPI_MakeFace::BRepBuilderAPI_MakeFace(gp_Sphere const &,TopoDS_Wire const &,Standard_Boolean const)\n    BRepBuilderAPI_MakeFace::BRepBuilderAPI_MakeFace(gp_Torus const &,TopoDS_Wire const &,Standard_Boolean const)\n    BRepBuilderAPI_MakeFace::BRepBuilderAPI_MakeFace(opencascade::handle< Geom_Surface > const &,TopoDS_Wire const &,Standard_Boolean const)\n    BRepBuilderAPI_MakeFace::BRepBuilderAPI_MakeFace(TopoDS_Face const &,TopoDS_Wire const &)\n",
     "output_type": "error",
     "traceback": [
      "\u001b[1;31m---------------------------------------------------------------------------\u001b[0m",
      "\u001b[1;31mTypeError\u001b[0m                                 Traceback (most recent call last)",
      "Cell \u001b[1;32mIn[8], line 12\u001b[0m\n\u001b[0;32m     10\u001b[0m axis \u001b[38;5;241m=\u001b[39m gp_Ax2(center, gp_Dir(\u001b[38;5;241m0\u001b[39m, \u001b[38;5;241m0\u001b[39m, \u001b[38;5;241m1\u001b[39m))\n\u001b[0;32m     11\u001b[0m circle \u001b[38;5;241m=\u001b[39m gp_Circ(axis, \u001b[38;5;241m10.0\u001b[39m)\n\u001b[1;32m---> 12\u001b[0m circular_face \u001b[38;5;241m=\u001b[39m \u001b[43mBRepBuilderAPI_MakeFace\u001b[49m\u001b[43m(\u001b[49m\u001b[43mcircle\u001b[49m\u001b[43m)\u001b[49m\u001b[38;5;241m.\u001b[39mFace()\n\u001b[0;32m     14\u001b[0m \u001b[38;5;28mprint\u001b[39m(\u001b[38;5;124m\"\u001b[39m\u001b[38;5;124m✅ 圆面创建成功\u001b[39m\u001b[38;5;124m\"\u001b[39m)\n\u001b[0;32m     16\u001b[0m \u001b[38;5;66;03m# 获取所有边\u001b[39;00m\n",
      "File \u001b[1;32m~\\.conda\\envs\\pyoccenv\\lib\\site-packages\\OCC\\Core\\BRepBuilderAPI.py:3682\u001b[0m, in \u001b[0;36mBRepBuilderAPI_MakeFace.__init__\u001b[1;34m(self, *args)\u001b[0m\n\u001b[0;32m   3379\u001b[0m \u001b[38;5;28;01mdef\u001b[39;00m\u001b[38;5;250m \u001b[39m\u001b[38;5;21m__init__\u001b[39m(\u001b[38;5;28mself\u001b[39m, \u001b[38;5;241m*\u001b[39margs):\n\u001b[0;32m   3380\u001b[0m \u001b[38;5;250m    \u001b[39m\u001b[38;5;124mr\u001b[39m\u001b[38;5;124;03m\"\"\"\u001b[39;00m\n\u001b[0;32m   3381\u001b[0m \u001b[38;5;124;03m    Return\u001b[39;00m\n\u001b[0;32m   3382\u001b[0m \u001b[38;5;124;03m    -------\u001b[39;00m\n\u001b[1;32m   (...)\u001b[0m\n\u001b[0;32m   3680\u001b[0m \n\u001b[0;32m   3681\u001b[0m \u001b[38;5;124;03m    \"\"\"\u001b[39;00m\n\u001b[1;32m-> 3682\u001b[0m     _BRepBuilderAPI\u001b[38;5;241m.\u001b[39mBRepBuilderAPI_MakeFace_swiginit(\u001b[38;5;28mself\u001b[39m, \u001b[43m_BRepBuilderAPI\u001b[49m\u001b[38;5;241;43m.\u001b[39;49m\u001b[43mnew_BRepBuilderAPI_MakeFace\u001b[49m\u001b[43m(\u001b[49m\u001b[38;5;241;43m*\u001b[39;49m\u001b[43margs\u001b[49m\u001b[43m)\u001b[49m)\n",
      "\u001b[1;31mTypeError\u001b[0m: Wrong number or type of arguments for overloaded function 'new_BRepBuilderAPI_MakeFace'.\n  Possible C/C++ prototypes are:\n    BRepBuilderAPI_MakeFace::BRepBuilderAPI_MakeFace()\n    BRepBuilderAPI_MakeFace::BRepBuilderAPI_MakeFace(TopoDS_Face const &)\n    BRepBuilderAPI_MakeFace::BRepBuilderAPI_MakeFace(gp_Pln const &)\n    BRepBuilderAPI_MakeFace::BRepBuilderAPI_MakeFace(gp_Cylinder const &)\n    BRepBuilderAPI_MakeFace::BRepBuilderAPI_MakeFace(gp_Cone const &)\n    BRepBuilderAPI_MakeFace::BRepBuilderAPI_MakeFace(gp_Sphere const &)\n    BRepBuilderAPI_MakeFace::BRepBuilderAPI_MakeFace(gp_Torus const &)\n    BRepBuilderAPI_MakeFace::BRepBuilderAPI_MakeFace(opencascade::handle< Geom_Surface > const &,Standard_Real const)\n    BRepBuilderAPI_MakeFace::BRepBuilderAPI_MakeFace(gp_Pln const &,Standard_Real const,Standard_Real const,Standard_Real const,Standard_Real const)\n    BRepBuilderAPI_MakeFace::BRepBuilderAPI_MakeFace(gp_Cylinder const &,Standard_Real const,Standard_Real const,Standard_Real const,Standard_Real const)\n    BRepBuilderAPI_MakeFace::BRepBuilderAPI_MakeFace(gp_Cone const &,Standard_Real const,Standard_Real const,Standard_Real const,Standard_Real const)\n    BRepBuilderAPI_MakeFace::BRepBuilderAPI_MakeFace(gp_Sphere const &,Standard_Real const,Standard_Real const,Standard_Real const,Standard_Real const)\n    BRepBuilderAPI_MakeFace::BRepBuilderAPI_MakeFace(gp_Torus const &,Standard_Real const,Standard_Real const,Standard_Real const,Standard_Real const)\n    BRepBuilderAPI_MakeFace::BRepBuilderAPI_MakeFace(opencascade::handle< Geom_Surface > const &,Standard_Real const,Standard_Real const,Standard_Real const,Standard_Real const,Standard_Real const)\n    BRepBuilderAPI_MakeFace::BRepBuilderAPI_MakeFace(TopoDS_Wire const &,Standard_Boolean const)\n    BRepBuilderAPI_MakeFace::BRepBuilderAPI_MakeFace(gp_Pln const &,TopoDS_Wire const &,Standard_Boolean const)\n    BRepBuilderAPI_MakeFace::BRepBuilderAPI_MakeFace(gp_Cylinder const &,TopoDS_Wire const &,Standard_Boolean const)\n    BRepBuilderAPI_MakeFace::BRepBuilderAPI_MakeFace(gp_Cone const &,TopoDS_Wire const &,Standard_Boolean const)\n    BRepBuilderAPI_MakeFace::BRepBuilderAPI_MakeFace(gp_Sphere const &,TopoDS_Wire const &,Standard_Boolean const)\n    BRepBuilderAPI_MakeFace::BRepBuilderAPI_MakeFace(gp_Torus const &,TopoDS_Wire const &,Standard_Boolean const)\n    BRepBuilderAPI_MakeFace::BRepBuilderAPI_MakeFace(opencascade::handle< Geom_Surface > const &,TopoDS_Wire const &,Standard_Boolean const)\n    BRepBuilderAPI_MakeFace::BRepBuilderAPI_MakeFace(TopoDS_Face const &,TopoDS_Wire const &)\n"
     ]
    }
   ],
   "source": [
    "from OCC.Core.gp import gp_Pnt, gp_Dir, gp_Ax2, gp_Circ\n",
    "from OCC.Core.BRepBuilderAPI import BRepBuilderAPI_MakeFace\n",
    "from OCC.Core.TopExp import TopExp_Explorer\n",
    "from OCC.Core.TopAbs import TopAbs_EDGE\n",
    "from OCC.Core.TopoDS import TopoDS_Edge\n",
    "from OCC.Display.WebGl.jupyter_renderer import JupyterRenderer\n",
    "\n",
    "# 创建圆面\n",
    "center = gp_Pnt(0, 0, 0)\n",
    "axis = gp_Ax2(center, gp_Dir(0, 0, 1))\n",
    "circle = gp_Circ(axis, 10.0)\n",
    "circular_face = BRepBuilderAPI_MakeFace(circle).Face()\n",
    "\n",
    "print(\"✅ 圆面创建成功\")\n",
    "\n",
    "# 获取所有边\n",
    "edge_explorer = TopExp_Explorer(circular_face, TopAbs_EDGE)\n",
    "edges = []\n",
    "\n",
    "while edge_explorer.More():\n",
    "    edge = TopoDS_Edge(edge_explorer.Current())\n",
    "    edges.append(edge)\n",
    "    edge_explorer.Next()\n",
    "\n",
    "print(f\"📊 圆面包含 {len(edges)} 条边\")\n",
    "\n",
    "# 可视化\n",
    "renderer = JupyterRenderer()\n",
    "colors = [\"#FF0000\", \"#00FF00\", \"#0000FF\", \"#FFFF00\"]\n",
    "\n",
    "# 显示圆面（半透明灰色）\n",
    "renderer.DisplayShape(circular_face, shape_color=\"#CCCCCC\", transparency=0.6)\n",
    "\n",
    "# 显示每条边（不同颜色）\n",
    "for i, edge in enumerate(edges):\n",
    "    color = colors[i % len(colors)]\n",
    "    renderer.DisplayShape(edge, shape_color=color, line_width=4)\n",
    "    print(f\"边 {i+1}: {color}\")\n",
    "\n",
    "renderer.Display()"
   ]
  }
 ],
 "metadata": {
  "kernelspec": {
   "display_name": "Python 3 (ipykernel)",
   "language": "python",
   "name": "python3"
  },
  "language_info": {
   "codemirror_mode": {
    "name": "ipython",
    "version": 3
   },
   "file_extension": ".py",
   "mimetype": "text/x-python",
   "name": "python",
   "nbconvert_exporter": "python",
   "pygments_lexer": "ipython3",
   "version": "3.10.18"
  }
 },
 "nbformat": 4,
 "nbformat_minor": 5
}
