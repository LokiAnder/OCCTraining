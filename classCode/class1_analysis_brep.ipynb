{
 "cells": [
  {
   "cell_type": "code",
   "execution_count": null,
   "id": "3865139b",
   "metadata": {},
   "outputs": [],
   "source": [
    "from OCC.Core.BRepPrimAPI import BRepPrimAPI_MakeBox\n",
    "from OCC.Core.TopExp import TopExp_Explorer\n",
    "from OCC.Core.TopAbs import TopAbs_VERTEX, TopAbs_EDGE, TopAbs_FACE\n",
    "\n"
   ]
  },
  {
   "cell_type": "code",
   "execution_count": null,
   "id": "ce20505b",
   "metadata": {},
   "outputs": [],
   "source": [
    "# 创建一个立方体\n",
    "box = BRepPrimAPI_MakeBox(10, 20, 30).Shape()\n",
    "\n",
    "# 遍历并统计各层级元素\n",
    "def analyze_shape(shape):\n",
    "    \"\"\"分析形状的拓扑结构\"\"\"\n",
    "    \n",
    "    # 统计顶点\n",
    "    vertex_explorer = TopExp_Explorer(shape, TopAbs_VERTEX)\n",
    "    vertex_count = 0\n",
    "    while vertex_explorer.More():\n",
    "        vertex_count += 1\n",
    "        vertex_explorer.Next()\n",
    "    \n",
    "    # 统计边\n",
    "    edge_explorer = TopExp_Explorer(shape, TopAbs_EDGE)\n",
    "    edge_count = 0\n",
    "    while edge_explorer.More():\n",
    "        edge_count += 1\n",
    "        edge_explorer.Next()\n",
    "    \n",
    "    # 统计面\n",
    "    face_explorer = TopExp_Explorer(shape, TopAbs_FACE)\n",
    "    face_count = 0\n",
    "    while face_explorer.More():\n",
    "        face_count += 1\n",
    "        face_explorer.Next()\n",
    "    \n",
    "    print(f\"📊 拓扑分析结果:\")\n",
    "    print(f\"   顶点 (Vertex): {vertex_count} 个\")\n",
    "    print(f\"   边   (Edge):   {edge_count} 个\") \n",
    "    print(f\"   面   (Face):   {face_count} 个\")\n",
    "    \n",
    "    return vertex_count, edge_count, face_count\n",
    "\n",
    "# 分析立方体\n",
    "analyze_shape(box)\n",
    "\n",
    "# 可视化\n",
    "renderer = JupyterRenderer()\n",
    "renderer.DisplayShape(box, render_edges=True)\n",
    "renderer.Display()"
   ]
  }
 ],
 "metadata": {
  "language_info": {
   "name": "python"
  }
 },
 "nbformat": 4,
 "nbformat_minor": 5
}
