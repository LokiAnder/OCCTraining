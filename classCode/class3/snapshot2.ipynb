{
 "cells": [
  {
   "cell_type": "code",
   "execution_count": 37,
   "id": "ebf4b5ac-1663-45c3-b078-f5617ce2db28",
   "metadata": {},
   "outputs": [],
   "source": [
    "# snap_manager.py —— 约 60 行的最小可运行 Undo / Redo\n",
    "from collections import deque\n",
    "from OCC.Core.BRepBuilderAPI import BRepBuilderAPI_Copy\n",
    "from OCC.Core.BRepTools import breptools_Write, breptools_Read\n",
    "from OCC.Core.TopoDS import TopoDS_Shape\n",
    "import tempfile, os, zlib\n",
    "\n",
    "# ---------- 工具函数 ----------\n",
    "def deepcopy_shape(shape: TopoDS_Shape) -> TopoDS_Shape:\n",
    "    \"\"\"内存内 1:1 深拷贝形状\"\"\"\n",
    "    return BRepBuilderAPI_Copy(shape).Shape()  # 实际 API 详见 pythonocc demos:contentReference[oaicite:4]{index=4}\n",
    "\n",
    "def serialize_shape(shape: TopoDS_Shape) -> bytes:\n",
    "    \"\"\"BREP → gzip 字节串；用于大模型省内存或持久化\"\"\"\n",
    "    fd, path = tempfile.mkstemp(suffix=\".brep\"); os.close(fd)\n",
    "    breptools_Write(shape, path)               # 官方示例同款:contentReference[oaicite:5]{index=5}\n",
    "    data = zlib.compress(open(path, \"rb\").read())\n",
    "    os.remove(path); return data\n",
    "\n",
    "def deserialize_shape(data: bytes) -> TopoDS_Shape:\n",
    "    fd, path = tempfile.mkstemp(suffix=\".brep\"); os.close(fd)\n",
    "    open(path, \"wb\").write(zlib.decompress(data))\n",
    "    shape = TopoDS_Shape(); breptools_Read(shape, path)\n",
    "    os.remove(path); return shape\n",
    "\n",
    "# ---------- 核心类 ----------\n",
    "class SnapManager:\n",
    "    def __init__(self, init_shape, copy_fn=deepcopy_shape, restore_fn=lambda x: x):\n",
    "        self._copy, self._restore = copy_fn, restore_fn\n",
    "        self._undo, self._redo = deque([self._copy(init_shape)]), deque()\n",
    "\n",
    "    @property\n",
    "    def shape(self):                  # 取当前形状\n",
    "        return self._restore(self._undo[-1])\n",
    "\n",
    "    def snapshot(self, shape):        # 每次完成一条命令后调用\n",
    "        self._undo.append(self._copy(shape)); self._redo.clear()\n",
    "\n",
    "    def can_undo(self): return len(self._undo) > 1\n",
    "    def can_redo(self): return bool(self._redo)\n",
    "\n",
    "    def undo(self):                   # ⇧Z\n",
    "        if self.can_undo(): self._redo.append(self._undo.pop())\n",
    "        return self.shape\n",
    "\n",
    "    def redo(self):                   # ⇧Y\n",
    "        if self.can_redo(): self._undo.append(self._redo.pop())\n",
    "        return self.shape\n"
   ]
  },
  {
   "cell_type": "code",
   "execution_count": 38,
   "id": "b226b126-a16f-4b19-9421-9384acbc722a",
   "metadata": {},
   "outputs": [
    {
     "data": {
      "application/vnd.jupyter.widget-view+json": {
       "model_id": "cd384f1c09134643b30c33ca851344f7",
       "version_major": 2,
       "version_minor": 0
      },
      "text/plain": [
       "HBox(children=(VBox(children=(HBox(children=(Checkbox(value=True, description='Axes', layout=Layout(height='au…"
      ]
     },
     "metadata": {},
     "output_type": "display_data"
    }
   ],
   "source": [
    "from OCC.Core.BRepPrimAPI import BRepPrimAPI_MakeBox\n",
    "from OCC.Display.WebGl.jupyter_renderer import JupyterRenderer\n",
    "\n",
    "# 初始形状（10×20×30 盒）\n",
    "shape0 = BRepPrimAPI_MakeBox(10, 20, 30).Shape()\n",
    "snap = SnapManager(shape0)          # 管理器实例\n",
    "\n",
    "renderer = JupyterRenderer()  \n",
    "renderer.DisplayShape(shape0)\n",
    "renderer.Display()\n"
   ]
  },
  {
   "cell_type": "code",
   "execution_count": 39,
   "id": "61dc78be-0b83-4998-ae81-37fd79f96715",
   "metadata": {},
   "outputs": [
    {
     "data": {
      "application/vnd.jupyter.widget-view+json": {
       "model_id": "1cfd0863ad7d46e98dee4ac1c704d341",
       "version_major": 2,
       "version_minor": 0
      },
      "text/plain": [
       "HBox(children=(VBox(children=(HBox(children=(Checkbox(value=True, description='Axes', layout=Layout(height='au…"
      ]
     },
     "metadata": {},
     "output_type": "display_data"
    },
    {
     "data": {
      "application/vnd.jupyter.widget-view+json": {
       "model_id": "11c31847d5c547d89a98f749aa23f23d",
       "version_major": 2,
       "version_minor": 0
      },
      "text/plain": [
       "HBox(children=(VBox(children=(HBox(children=(Checkbox(value=True, description='Axes', layout=Layout(height='au…"
      ]
     },
     "metadata": {},
     "output_type": "display_data"
    }
   ],
   "source": [
    "from OCC.Core.gp import gp_Trsf, gp_Vec\n",
    "from OCC.Core.BRepBuilderAPI import BRepBuilderAPI_Transform\n",
    "\n",
    "def translate(dx, dy, dz):\n",
    "    trsf = gp_Trsf(); trsf.SetTranslation(gp_Vec(dx, dy, dz))\n",
    "    new_shape = BRepBuilderAPI_Transform(snap.shape, trsf, True).Shape()\n",
    "    snap.snapshot(new_shape)        # 记录历史\n",
    "    renderer.EraseAll()                      # 更新显示\n",
    "    renderer.DisplayShape(new_shape,shape_color = \"#111111\")\n",
    "    renderer.Display()\n",
    "\n",
    "translate(20, 0, 0)   # 第 1 步\n",
    "translate(0, 10, 0)  # 第 2 步\n"
   ]
  },
  {
   "cell_type": "code",
   "execution_count": 36,
   "id": "85d1b7f1-c907-4ece-aeb6-066198976120",
   "metadata": {},
   "outputs": [
    {
     "data": {
      "application/vnd.jupyter.widget-view+json": {
       "model_id": "211d546759434914bd3bb78235556995",
       "version_major": 2,
       "version_minor": 0
      },
      "text/plain": [
       "HBox(children=(VBox(children=(HBox(children=(Checkbox(value=True, description='Axes', layout=Layout(height='au…"
      ]
     },
     "metadata": {},
     "output_type": "display_data"
    }
   ],
   "source": [
    "\n",
    "\n",
    "renderer.EraseAll() \n",
    "renderer.DisplayShape(snap.undo(), shape_color=\"#009999\")\n",
    "renderer.Display()\n",
    "\n",
    "\n",
    "\n",
    "\n"
   ]
  },
  {
   "cell_type": "code",
   "execution_count": 23,
   "id": "c1d35423-5802-4979-aef3-744670543e81",
   "metadata": {},
   "outputs": [
    {
     "data": {
      "application/vnd.jupyter.widget-view+json": {
       "model_id": "00291eec817d4f46bb48e287e9df0168",
       "version_major": 2,
       "version_minor": 0
      },
      "text/plain": [
       "HBox(children=(VBox(children=(HBox(children=(Checkbox(value=True, description='Axes', layout=Layout(height='au…"
      ]
     },
     "metadata": {},
     "output_type": "display_data"
    }
   ],
   "source": [
    "\n",
    "renderer.EraseAll() \n",
    "renderer.DisplayShape(snap.redo(), shape_color=\"#990099\")\n",
    "renderer.Display()"
   ]
  }
 ],
 "metadata": {
  "kernelspec": {
   "display_name": "Python 3 (ipykernel)",
   "language": "python",
   "name": "python3"
  },
  "language_info": {
   "codemirror_mode": {
    "name": "ipython",
    "version": 3
   },
   "file_extension": ".py",
   "mimetype": "text/x-python",
   "name": "python",
   "nbconvert_exporter": "python",
   "pygments_lexer": "ipython3",
   "version": "3.10.18"
  }
 },
 "nbformat": 4,
 "nbformat_minor": 5
}
