{
 "cells": [
  {
   "cell_type": "code",
   "execution_count": 2,
   "id": "c2ef6726",
   "metadata": {},
   "outputs": [],
   "source": [
    "from abc import ABC, abstractmethod\n",
    "from typing import List, Any\n",
    "import copy\n",
    "\n",
    "class Command(ABC):\n",
    "    \"\"\"命令抽象基类\"\"\"\n",
    "    \n",
    "    @abstractmethod\n",
    "    def execute(self) -> Any:\n",
    "        \"\"\"执行命令\"\"\"\n",
    "        pass\n",
    "    \n",
    "    @abstractmethod\n",
    "    def undo(self) -> Any:\n",
    "        \"\"\"撤销命令\"\"\"\n",
    "        pass\n",
    "    \n",
    "    @abstractmethod\n",
    "    def get_description(self) -> str:\n",
    "        \"\"\"获取命令描述\"\"\"\n",
    "        pass\n",
    "\n",
    "class Receiver:\n",
    "    \"\"\"接收者 - 实际执行操作的对象\"\"\"\n",
    "    \n",
    "    def __init__(self):\n",
    "        self.shapes = []  # 存储几何体\n",
    "        self.current_id = 0\n",
    "    \n",
    "    def add_shape(self, shape_data):\n",
    "        \"\"\"添加几何体\"\"\"\n",
    "        shape_id = self.current_id\n",
    "        self.shapes.append({\n",
    "            'id': shape_id,\n",
    "            'data': shape_data,\n",
    "            'active': True\n",
    "        })\n",
    "        self.current_id += 1\n",
    "        print(f\"✅ 添加几何体 ID: {shape_id}\")\n",
    "        return shape_id\n",
    "    \n",
    "    def remove_shape(self, shape_id):\n",
    "        \"\"\"删除几何体\"\"\"\n",
    "        for shape in self.shapes:\n",
    "            if shape['id'] == shape_id and shape['active']:\n",
    "                shape['active'] = False\n",
    "                print(f\"🗑️ 删除几何体 ID: {shape_id}\")\n",
    "                return True\n",
    "        return False\n",
    "    \n",
    "    def restore_shape(self, shape_id):\n",
    "        \"\"\"恢复几何体\"\"\"\n",
    "        for shape in self.shapes:\n",
    "            if shape['id'] == shape_id and not shape['active']:\n",
    "                shape['active'] = True\n",
    "                print(f\"🔄 恢复几何体 ID: {shape_id}\")\n",
    "                return True\n",
    "        return False\n",
    "    \n",
    "    def get_active_shapes(self):\n",
    "        \"\"\"获取当前活跃的几何体\"\"\"\n",
    "        return [s for s in self.shapes if s['active']]\n",
    "\n",
    "class Invoker:\n",
    "    \"\"\"调用者 - 管理命令历史\"\"\"\n",
    "    \n",
    "    def __init__(self):\n",
    "        self.history: List[Command] = []\n",
    "        self.current_index = -1\n",
    "    \n",
    "    def execute_command(self, command: Command):\n",
    "        \"\"\"执行命令并记录到历史\"\"\"\n",
    "        # 如果当前不在历史末尾，删除后续历史\n",
    "        if self.current_index < len(self.history) - 1:\n",
    "            self.history = self.history[:self.current_index + 1]\n",
    "        \n",
    "        # 执行命令\n",
    "        result = command.execute()\n",
    "        \n",
    "        # 添加到历史\n",
    "        self.history.append(command)\n",
    "        self.current_index += 1\n",
    "        \n",
    "        print(f\"📝 执行命令: {command.get_description()}\")\n",
    "        return result\n",
    "    \n",
    "    def undo(self):\n",
    "        \"\"\"撤销操作\"\"\"\n",
    "        if self.can_undo():\n",
    "            command = self.history[self.current_index]\n",
    "            result = command.undo()\n",
    "            self.current_index -= 1\n",
    "            print(f\"↩️ 撤销命令: {command.get_description()}\")\n",
    "            return result\n",
    "        else:\n",
    "            print(\"❌ 无可撤销的操作\")\n",
    "            return None\n",
    "    \n",
    "    def redo(self):\n",
    "        \"\"\"重做操作\"\"\"\n",
    "        if self.can_redo():\n",
    "            self.current_index += 1\n",
    "            command = self.history[self.current_index]\n",
    "            result = command.execute()\n",
    "            print(f\"↪️ 重做命令: {command.get_description()}\")\n",
    "            return result\n",
    "        else:\n",
    "            print(\"❌ 无可重做的操作\")\n",
    "            return None\n",
    "    \n",
    "    def can_undo(self) -> bool:\n",
    "        \"\"\"是否可以撤销\"\"\"\n",
    "        return self.current_index >= 0\n",
    "    \n",
    "    def can_redo(self) -> bool:\n",
    "        \"\"\"是否可以重做\"\"\"\n",
    "        return self.current_index < len(self.history) - 1\n",
    "    \n",
    "    def get_history_summary(self):\n",
    "        \"\"\"获取历史记录摘要\"\"\"\n",
    "        print(f\"📚 命令历史 (当前位置: {self.current_index + 1}/{len(self.history)}):\")\n",
    "        for i, cmd in enumerate(self.history):\n",
    "            marker = \"➤\" if i == self.current_index else \" \"\n",
    "            print(f\"  {marker} {i}: {cmd.get_description()}\")"
   ]
  },
  {
   "cell_type": "code",
   "execution_count": 3,
   "id": "4bd613e9",
   "metadata": {},
   "outputs": [],
   "source": [
    "from OCC.Core.BRepPrimAPI import BRepPrimAPI_MakeBox, BRepPrimAPI_MakeSphere\n",
    "from OCC.Core.gp import gp_Pnt\n",
    "\n",
    "class CreateBoxCommand(Command):\n",
    "    \"\"\"创建立方体命令\"\"\"\n",
    "    \n",
    "    def __init__(self, receiver: Receiver, width: float, height: float, depth: float):\n",
    "        self.receiver = receiver\n",
    "        self.width = width\n",
    "        self.height = height\n",
    "        self.depth = depth\n",
    "        self.shape_id = None\n",
    "    \n",
    "    def execute(self):\n",
    "        \"\"\"执行：创建立方体\"\"\"\n",
    "        box_shape = BRepPrimAPI_MakeBox(self.width, self.height, self.depth).Shape()\n",
    "        self.shape_id = self.receiver.add_shape({\n",
    "            'type': 'box',\n",
    "            'width': self.width,\n",
    "            'height': self.height,\n",
    "            'depth': self.depth,\n",
    "            'shape': box_shape\n",
    "        })\n",
    "        return self.shape_id\n",
    "    \n",
    "    def undo(self):\n",
    "        \"\"\"撤销：删除立方体\"\"\"\n",
    "        if self.shape_id is not None:\n",
    "            return self.receiver.remove_shape(self.shape_id)\n",
    "        return False\n",
    "    \n",
    "    def get_description(self) -> str:\n",
    "        return f\"创建立方体 ({self.width}×{self.height}×{self.depth})\"\n",
    "\n",
    "class CreateSphereCommand(Command):\n",
    "    \"\"\"创建球体命令\"\"\"\n",
    "    \n",
    "    def __init__(self, receiver: Receiver, center: gp_Pnt, radius: float):\n",
    "        self.receiver = receiver\n",
    "        self.center = center\n",
    "        self.radius = radius\n",
    "        self.shape_id = None\n",
    "    \n",
    "    def execute(self):\n",
    "        \"\"\"执行：创建球体\"\"\"\n",
    "        sphere_shape = BRepPrimAPI_MakeSphere(self.center, self.radius).Shape()\n",
    "        self.shape_id = self.receiver.add_shape({\n",
    "            'type': 'sphere',\n",
    "            'center': self.center,\n",
    "            'radius': self.radius,\n",
    "            'shape': sphere_shape\n",
    "        })\n",
    "        return self.shape_id\n",
    "    \n",
    "    def undo(self):\n",
    "        \"\"\"撤销：删除球体\"\"\"\n",
    "        if self.shape_id is not None:\n",
    "            return self.receiver.remove_shape(self.shape_id)\n",
    "        return False\n",
    "    \n",
    "    def get_description(self) -> str:\n",
    "        return f\"创建球体 (半径: {self.radius})\"\n",
    "\n",
    "class DeleteShapeCommand(Command):\n",
    "    \"\"\"删除几何体命令\"\"\"\n",
    "    \n",
    "    def __init__(self, receiver: Receiver, shape_id: int):\n",
    "        self.receiver = receiver\n",
    "        self.shape_id = shape_id\n",
    "    \n",
    "    def execute(self):\n",
    "        \"\"\"执行：删除几何体\"\"\"\n",
    "        return self.receiver.remove_shape(self.shape_id)\n",
    "    \n",
    "    def undo(self):\n",
    "        \"\"\"撤销：恢复几何体\"\"\"\n",
    "        return self.receiver.restore_shape(self.shape_id)\n",
    "    \n",
    "    def get_description(self) -> str:\n",
    "        return f\"删除几何体 (ID: {self.shape_id})\""
   ]
  },
  {
   "cell_type": "code",
   "execution_count": 4,
   "id": "8323e8f5",
   "metadata": {},
   "outputs": [
    {
     "name": "stdout",
     "output_type": "stream",
     "text": [
      "🎯 命令模式 Undo/Redo 演示\n",
      "==================================================\n",
      "\n",
      "📝 执行命令序列:\n",
      "✅ 添加几何体 ID: 0\n",
      "📝 执行命令: 创建立方体 (10×20×30)\n",
      "✅ 添加几何体 ID: 1\n",
      "📝 执行命令: 创建球体 (半径: 15)\n",
      "✅ 添加几何体 ID: 2\n",
      "📝 执行命令: 创建立方体 (5×5×5)\n"
     ]
    },
    {
     "data": {
      "application/vnd.jupyter.widget-view+json": {
       "model_id": "b2d94a2a1eb24840aadb2052d9270a6c",
       "version_major": 2,
       "version_minor": 0
      },
      "text/plain": [
       "HBox(children=(VBox(children=(HBox(children=(Checkbox(value=True, description='Axes', layout=Layout(height='au…"
      ]
     },
     "metadata": {},
     "output_type": "display_data"
    },
    {
     "name": "stdout",
     "output_type": "stream",
     "text": [
      "\n",
      "当前活跃几何体数量: 3\n"
     ]
    }
   ],
   "source": [
    "from OCC.Display.WebGl.jupyter_renderer import JupyterRenderer\n",
    "\n",
    "\"\"\"命令模式演示\"\"\"\n",
    "\n",
    "print(\"🎯 命令模式 Undo/Redo 演示\")\n",
    "print(\"=\" * 50)\n",
    "\n",
    "# 创建接收者和调用者\n",
    "receiver = Receiver()\n",
    "invoker = Invoker()\n",
    "\n",
    "# 初始化渲染器\n",
    "renderer = JupyterRenderer()\n",
    "\n",
    "# 创建几个命令\n",
    "cmd1 = CreateBoxCommand(receiver, 10, 20, 30)\n",
    "cmd2 = CreateSphereCommand(receiver, gp_Pnt(0, 0, 0), 15)\n",
    "cmd3 = CreateBoxCommand(receiver, 5, 5, 5)\n",
    "\n",
    "# 执行命令\n",
    "print(\"\\n📝 执行命令序列:\")\n",
    "invoker.execute_command(cmd1)\n",
    "invoker.execute_command(cmd2)\n",
    "invoker.execute_command(cmd3)\n",
    "\n",
    "# 显示当前活跃几何体\n",
    "active_shapes = receiver.get_active_shapes()\n",
    "for shape in active_shapes:\n",
    "    renderer.DisplayShape(shape['data']['shape'])\n",
    "renderer.Display()\n",
    "\n",
    "print(f\"\\n当前活跃几何体数量: {len(receiver.get_active_shapes())}\")\n",
    "\n",
    "\n",
    "\n"
   ]
  },
  {
   "cell_type": "code",
   "execution_count": 5,
   "id": "295aeb62-0362-4b0b-93b1-3001cfeb8f2e",
   "metadata": {},
   "outputs": [
    {
     "name": "stdout",
     "output_type": "stream",
     "text": [
      "\n",
      "↩️ 撤销操作:\n",
      "🗑️ 删除几何体 ID: 2\n",
      "↩️ 撤销命令: 创建立方体 (5×5×5)\n",
      "🗑️ 删除几何体 ID: 1\n",
      "↩️ 撤销命令: 创建球体 (半径: 15)\n"
     ]
    },
    {
     "data": {
      "application/vnd.jupyter.widget-view+json": {
       "model_id": "288c492750ee46e6a74076bfd051dbb1",
       "version_major": 2,
       "version_minor": 0
      },
      "text/plain": [
       "HBox(children=(VBox(children=(HBox(children=(Checkbox(value=True, description='Axes', layout=Layout(height='au…"
      ]
     },
     "metadata": {},
     "output_type": "display_data"
    },
    {
     "name": "stdout",
     "output_type": "stream",
     "text": [
      "撤销后活跃几何体数量: 1\n"
     ]
    }
   ],
   "source": [
    "# 撤销操作\n",
    "print(\"\\n↩️ 撤销操作:\")\n",
    "invoker.undo()  # 撤销创建小立方体\n",
    "invoker.undo()  # 撤销创建球体\n",
    "\n",
    "\n",
    " # 显示当前活跃几何体\n",
    "renderer.EraseAll()\n",
    "active_shapes = receiver.get_active_shapes()\n",
    "for shape in active_shapes:\n",
    "    renderer.DisplayShape(shape['data']['shape'])\n",
    "renderer.Display()\n",
    "\n",
    "print(f\"撤销后活跃几何体数量: {len(receiver.get_active_shapes())}\")\n",
    "\n"
   ]
  },
  {
   "cell_type": "code",
   "execution_count": 6,
   "id": "efd14ed9-8214-4947-83b0-7b6b73f55a18",
   "metadata": {},
   "outputs": [
    {
     "name": "stdout",
     "output_type": "stream",
     "text": [
      "\n",
      "↪️ 重做操作:\n",
      "✅ 添加几何体 ID: 3\n",
      "↪️ 重做命令: 创建球体 (半径: 15)\n"
     ]
    },
    {
     "data": {
      "application/vnd.jupyter.widget-view+json": {
       "model_id": "1cfb8a6b2f974073af0c5471081e0bd8",
       "version_major": 2,
       "version_minor": 0
      },
      "text/plain": [
       "HBox(children=(VBox(children=(HBox(children=(Checkbox(value=True, description='Axes', layout=Layout(height='au…"
      ]
     },
     "metadata": {},
     "output_type": "display_data"
    },
    {
     "name": "stdout",
     "output_type": "stream",
     "text": [
      "重做后活跃几何体数量: 2\n"
     ]
    }
   ],
   "source": [
    "# 重做操作\n",
    "print(\"\\n↪️ 重做操作:\")\n",
    "invoker.redo()  # 重做创建球体\n",
    " # 显示当前活跃几何体\n",
    "renderer.EraseAll()\n",
    "active_shapes = receiver.get_active_shapes()\n",
    "for shape in active_shapes:\n",
    "    renderer.DisplayShape(shape['data']['shape'])\n",
    "renderer.Display()\n",
    "print(f\"重做后活跃几何体数量: {len(receiver.get_active_shapes())}\")\n",
    "\n"
   ]
  },
  {
   "cell_type": "code",
   "execution_count": 7,
   "id": "85a2a8fc-ad09-483d-8adc-4dacdc2f14d0",
   "metadata": {},
   "outputs": [
    {
     "name": "stdout",
     "output_type": "stream",
     "text": [
      "\n",
      "\n",
      "📚 命令历史 (当前位置: 2/3):\n",
      "    0: 创建立方体 (10×20×30)\n",
      "  ➤ 1: 创建球体 (半径: 15)\n",
      "    2: 创建立方体 (5×5×5)\n",
      "\n",
      "📝 执行新命令（将清除后续历史）:\n",
      "✅ 添加几何体 ID: 4\n",
      "📝 执行命令: 创建球体 (半径: 8)\n",
      "\n",
      "\n",
      "📚 命令历史 (当前位置: 3/3):\n",
      "    0: 创建立方体 (10×20×30)\n",
      "    1: 创建球体 (半径: 15)\n",
      "  ➤ 2: 创建球体 (半径: 8)\n"
     ]
    }
   ],
   "source": [
    "# 显示历史记录\n",
    "print(\"\\n\")\n",
    "invoker.get_history_summary()\n",
    "\n",
    "# 新命令会清除后续历史\n",
    "print(\"\\n📝 执行新命令（将清除后续历史）:\")\n",
    "cmd4 = CreateSphereCommand(receiver, gp_Pnt(10, 10, 10), 8)\n",
    "invoker.execute_command(cmd4)\n",
    "\n",
    "print(\"\\n\")\n",
    "invoker.get_history_summary()"
   ]
  }
 ],
 "metadata": {
  "kernelspec": {
   "display_name": "Python 3 (ipykernel)",
   "language": "python",
   "name": "python3"
  },
  "language_info": {
   "codemirror_mode": {
    "name": "ipython",
    "version": 3
   },
   "file_extension": ".py",
   "mimetype": "text/x-python",
   "name": "python",
   "nbconvert_exporter": "python",
   "pygments_lexer": "ipython3",
   "version": "3.10.18"
  }
 },
 "nbformat": 4,
 "nbformat_minor": 5
}
