{
 "cells": [
  {
   "cell_type": "code",
   "execution_count": 8,
   "id": "6cd75114-4443-4ec4-b09a-25fbbd6f8072",
   "metadata": {},
   "outputs": [
    {
     "data": {
      "application/vnd.jupyter.widget-view+json": {
       "model_id": "58845e2431f948a9af14897ba8c2edc1",
       "version_major": 2,
       "version_minor": 0
      },
      "text/plain": [
       "HBox(children=(VBox(children=(HBox(children=(Checkbox(value=True, description='Axes', layout=Layout(height='au…"
      ]
     },
     "metadata": {},
     "output_type": "display_data"
    },
    {
     "data": {
      "application/vnd.jupyter.widget-view+json": {
       "model_id": "0701b9ac7b074b70b52579374547d41d",
       "version_major": 2,
       "version_minor": 0
      },
      "text/plain": [
       "HBox(children=(VBox(children=(HBox(children=(Checkbox(value=True, description='Axes', layout=Layout(height='au…"
      ]
     },
     "metadata": {},
     "output_type": "display_data"
    },
    {
     "data": {
      "application/vnd.jupyter.widget-view+json": {
       "model_id": "002a79ff5aa24ac3bc5d281c63226919",
       "version_major": 2,
       "version_minor": 0
      },
      "text/plain": [
       "HBox(children=(VBox(children=(HBox(children=(Checkbox(value=True, description='Axes', layout=Layout(height='au…"
      ]
     },
     "metadata": {},
     "output_type": "display_data"
    },
    {
     "data": {
      "application/vnd.jupyter.widget-view+json": {
       "model_id": "2f50fb516b8a47a492dae18d54aa6de5",
       "version_major": 2,
       "version_minor": 0
      },
      "text/plain": [
       "HBox(children=(VBox(children=(HBox(children=(Checkbox(value=True, description='Axes', layout=Layout(height='au…"
      ]
     },
     "metadata": {},
     "output_type": "display_data"
    }
   ],
   "source": [
    "from OCC.Display.WebGl.jupyter_renderer import JupyterRenderer\n",
    "from OCC.Core.BRepPrimAPI import BRepPrimAPI_MakeBox, BRepPrimAPI_MakeCylinder\n",
    "\n",
    "\n",
    "# 初始化\n",
    "r = JupyterRenderer()\n",
    "undo_stack = []\n",
    "redo_stack = []\n",
    "\n",
    "# 当前模型\n",
    "current_shape = None\n",
    "\n",
    "# 模拟命令执行\n",
    "def apply_command(new_shape):\n",
    "    global current_shape\n",
    "    if current_shape:\n",
    "        undo_stack.append(current_shape)\n",
    "        redo_stack.clear()\n",
    "    current_shape = new_shape\n",
    "    r = JupyterRenderer()\n",
    "    r.DisplayShape(current_shape)\n",
    "    r.Display()\n",
    "\n",
    "def undo():\n",
    "    global current_shape\n",
    "    if undo_stack:\n",
    "        redo_stack.append(current_shape)\n",
    "        current_shape = undo_stack.pop()\n",
    "        r = JupyterRenderer()\n",
    "        r.DisplayShape(current_shape)\n",
    "        r.Display()\n",
    "\n",
    "def redo():\n",
    "    global current_shape\n",
    "    if redo_stack:\n",
    "        undo_stack.append(current_shape)\n",
    "        current_shape = redo_stack.pop()\n",
    "        r = JupyterRenderer()\n",
    "        r.DisplayShape(current_shape)\n",
    "        r.Display()\n",
    "\n",
    "# 执行命令序列\n",
    "apply_command(BRepPrimAPI_MakeBox(10, 20, 30).Shape())\n",
    "apply_command(BRepPrimAPI_MakeCylinder(10, 40).Shape())\n",
    "\n",
    "\n",
    "\n",
    "# 初始化\n",
    "r = JupyterRenderer()\n",
    "undo_stack = []\n",
    "redo_stack = []\n",
    "\n",
    "# 当前模型\n",
    "current_shape = None\n",
    "\n",
    "# 模拟命令执行\n",
    "def apply_command(new_shape):\n",
    "    global current_shape\n",
    "    if current_shape:\n",
    "        undo_stack.append(current_shape)\n",
    "        redo_stack.clear()\n",
    "    current_shape = new_shape\n",
    "    r = JupyterRenderer()\n",
    "    r.DisplayShape(current_shape)\n",
    "    r.Display()\n",
    "\n",
    "def undo():\n",
    "    global current_shape\n",
    "    if undo_stack:\n",
    "        redo_stack.append(current_shape)\n",
    "        current_shape = undo_stack.pop()\n",
    "        r = JupyterRenderer()\n",
    "        r.DisplayShape(current_shape)\n",
    "        r.Display()\n",
    "\n",
    "def redo():\n",
    "    global current_shape\n",
    "    if redo_stack:\n",
    "        undo_stack.append(current_shape)\n",
    "        current_shape = redo_stack.pop()\n",
    "        r = JupyterRenderer()\n",
    "        r.DisplayShape(current_shape)\n",
    "        r.Display()\n",
    "\n",
    "# 执行命令序列\n",
    "apply_command(BRepPrimAPI_MakeBox(10, 20, 30).Shape())\n",
    "apply_command(BRepPrimAPI_MakeCylinder(10, 40).Shape())"
   ]
  },
  {
   "cell_type": "code",
   "execution_count": 7,
   "id": "288dd937-598d-48ae-90fb-6421f62f29a7",
   "metadata": {},
   "outputs": [],
   "source": [
    "apply_command(BRepPrimAPI_MakeBox(10, 20, 30).Shape())"
   ]
  }
 ],
 "metadata": {
  "kernelspec": {
   "display_name": "Python 3 (ipykernel)",
   "language": "python",
   "name": "python3"
  },
  "language_info": {
   "codemirror_mode": {
    "name": "ipython",
    "version": 3
   },
   "file_extension": ".py",
   "mimetype": "text/x-python",
   "name": "python",
   "nbconvert_exporter": "python",
   "pygments_lexer": "ipython3",
   "version": "3.10.18"
  }
 },
 "nbformat": 4,
 "nbformat_minor": 5
}
