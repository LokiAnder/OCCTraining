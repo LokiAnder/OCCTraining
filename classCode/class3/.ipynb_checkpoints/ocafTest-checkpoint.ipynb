{
 "cells": [
  {
   "cell_type": "code",
   "execution_count": null,
   "id": "c6c57678-dd01-4b2a-889e-faf057f4d376",
   "metadata": {},
   "outputs": [],
   "source": [
    "from OCC.Core.TCollection import (TCollection_AsciiString,\n",
    "                                  TCollection_ExtendedString)\n",
    "from OCC.Core.TDataStd import TDataStd_Name, TDataStd_Integer\n",
    "from OCC.Core.TDocStd import TDocStd_Document\n",
    "from OCC.Core.TDF import (TDF_Tool, TDF_TagSource,\n",
    "                          TDF_ChildIterator,)\n",
    "from OCC.Core.XCAFApp import XCAFApp_Application_GetApplication\n",
    "from OCC.Core.XCAFDoc import (XCAFDoc_DocumentTool_ColorTool,\n",
    "                              XCAFDoc_DocumentTool_ShapeTool,)\n",
    "\n",
    "\n",
    "# Create an application and document with empty root_label\n",
    "title = \"Main document\"\n",
    "doc = TDocStd_Document(TCollection_ExtendedString(title))\n",
    "app = XCAFApp_Application_GetApplication()\n",
    "app.NewDocument(TCollection_ExtendedString(\"MDTV-XCAF\"), doc)\n",
    "shape_tool = XCAFDoc_DocumentTool_ShapeTool(doc.Main())\n",
    "color_tool = XCAFDoc_DocumentTool_ColorTool(doc.Main())\n",
    "# type(doc.Main()) = <class 'OCC.Core.TDF.TDF_Label'>\n",
    "# 0:1 doc.Main().EntryDumpToString()\n",
    "# 0:1:1   shape_tool is at this label entry\n",
    "# 0:1:2   color_tool at this entry\n",
    "# 0:1:1:1 create root_label at this entry\n",
    "root = shape_tool.NewShape()\n",
    "name = \"Top\"  # name for root_label\n",
    "TDataStd_Name.Set(root, TCollection_ExtendedString(name))\n"
   ]
  },
  {
   "cell_type": "code",
   "execution_count": null,
   "id": "5e664fd1-e736-4e90-9add-ff72fe11b506",
   "metadata": {},
   "outputs": [],
   "source": [
    "# Tag\n",
    "\n",
    "# Creating child labels using random delivery of tags\n",
    "child1 = TDF_TagSource.NewChild(root)\n",
    "child2 = TDF_TagSource.NewChild(root)\n",
    "print(get_entry(root))  # 0:1:1:1\n",
    "print(get_entry(child1))  # 0:1:1:1:1\n",
    "print(get_entry(child2))  # 0:1:1:1:2\n",
    "\n",
    "# Creation of a child label by user delivery from a tag\n",
    "a_child = root.FindChild(27, True)  # new label is created\n",
    "if not a_child.IsNull():\n",
    "    tag = a_child.Tag()\n",
    "    print(f\"{tag = }\")\n",
    "\n",
    "a_child = root.FindChild(27, False)  # new label is not created\n",
    "if not a_child.IsNull():\n",
    "    a_tag = a_child.Tag()\n",
    "    print(f\"{a_tag = }\")  # But it is still found\n"
   ]
  }
 ],
 "metadata": {
  "kernelspec": {
   "display_name": "Python 3 (ipykernel)",
   "language": "python",
   "name": "python3"
  },
  "language_info": {
   "codemirror_mode": {
    "name": "ipython",
    "version": 3
   },
   "file_extension": ".py",
   "mimetype": "text/x-python",
   "name": "python",
   "nbconvert_exporter": "python",
   "pygments_lexer": "ipython3",
   "version": "3.10.18"
  }
 },
 "nbformat": 4,
 "nbformat_minor": 5
}
